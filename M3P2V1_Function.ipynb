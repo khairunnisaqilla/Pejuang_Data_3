{
  "nbformat": 4,
  "nbformat_minor": 0,
  "metadata": {
    "colab": {
      "name": "M3P2V1_Function.ipynb",
      "provenance": [],
      "collapsed_sections": [],
      "authorship_tag": "ABX9TyMteYiRsiCfOV/cqwVXUMz6",
      "include_colab_link": true
    },
    "kernelspec": {
      "name": "python3",
      "display_name": "Python 3"
    },
    "language_info": {
      "name": "python"
    }
  },
  "cells": [
    {
      "cell_type": "markdown",
      "metadata": {
        "id": "view-in-github",
        "colab_type": "text"
      },
      "source": [
        "<a href=\"https://colab.research.google.com/github/khairunnisaqilla/Pejuang_Data_3/blob/main/M3P2V1_Function.ipynb\" target=\"_parent\"><img src=\"https://colab.research.google.com/assets/colab-badge.svg\" alt=\"Open In Colab\"/></a>"
      ]
    },
    {
      "cell_type": "markdown",
      "metadata": {
        "id": "U57sHW85MWf2"
      },
      "source": [
        "# Function"
      ]
    },
    {
      "cell_type": "markdown",
      "metadata": {
        "id": "gSCVXSIFMkHG"
      },
      "source": [
        "Function(fungsi) adalah sebuah blok statement yang hanya akan dijalankan saat ia dipanggil.\n",
        "\n",
        "Fungsi len() untuk mengukur jumlah elemen dalam sebuah list dan fungsi print() untuk menampilkan pesan pada layar konsol merupakan bentuk dari fungsi yang telah disediakan oleh bahasa pemrograman Python atau dengan kata lain built-in functions.\n",
        "\n",
        "Selain fungsi yang telah disiapkan oleh Python, Python mengizinkan untuk mendeklarasikan fungsi dalam kode yabg dituliskan yang dikenal dengan user defined function.\n",
        "\n",
        "```\n",
        "def nama_fungsi(argument):\n",
        "    statement_1\n",
        "    -\n",
        "    statement_n\n",
        "    return returned_value\n",
        "```\n",
        "\n",
        "*  **nama_fungsi** adalah nama untuk fungsi yang Anda definisikan, memiliki aturan seperti penamaan variabel\n",
        "*  **argument** adalah variabel masukan ke fungsi, bisa tanpa variabel, satu variabel atau lebih\n",
        "*  **statment_1 ... statment_n** adalah algoritma yang telah Anda transfer dalam bahasa Python yang merupakan inti dari fungsi yang Anda definisikan. Seluruh statment adalah menjorok (indent) ke dalam seperti yang pernah Anda pelajari pada conditioning dan looping\n",
        "*  **return_value** adalah variabel output dari fungsi Anda, bisa tanpa variabel, satu variabel atau lebih\n",
        "\n",
        "\n",
        "\n"
      ]
    },
    {
      "cell_type": "markdown",
      "metadata": {
        "id": "mJlNaFl5PQXQ"
      },
      "source": [
        "## Argumen dan Parameter\n",
        "\n",
        "*  **Parameter** adalah variabel yang digunakan dalam deklarasi fungsi\n",
        "*  **Argumen** adalah nilai yang diberikan saat pemanggilan fungsi\n",
        "\n",
        "\n"
      ]
    },
    {
      "cell_type": "code",
      "metadata": {
        "colab": {
          "base_uri": "https://localhost:8080/"
        },
        "id": "mAblY_spMRiw",
        "outputId": "2d9d6298-6172-465e-a9d7-38a28a6f47c8"
      },
      "source": [
        "def print_nama(nama):  # 'nama' adalah parameter\n",
        "  print(nama)\n",
        "\n",
        "print_nama('Budi')  # 'Budi' adalah argumen"
      ],
      "execution_count": null,
      "outputs": [
        {
          "output_type": "stream",
          "name": "stdout",
          "text": [
            "Budi\n"
          ]
        }
      ]
    },
    {
      "cell_type": "markdown",
      "metadata": {
        "id": "TRByuFAWQBhY"
      },
      "source": [
        "## Argumen posisi dan kata kunci\n",
        "\n",
        "Kita bisa menyatakan argumen sebagai argumen posisi atau kata kunci. Beberapa manfaat argumen kata kunci dapat berupa:\n",
        "\n",
        "*  Kita dapat menyebut argumen dengan nama mereka untuk memperjelas apa yang mereka wakili\n",
        "*  Kita dapat mengatur ulang argumen dengan cara yang membuatnya paling mudah dibaca\n",
        "\n"
      ]
    },
    {
      "cell_type": "code",
      "metadata": {
        "colab": {
          "base_uri": "https://localhost:8080/"
        },
        "id": "IZqkKlxaQx8b",
        "outputId": "94679c5c-2be3-462e-a013-dc05772a08ce"
      },
      "source": [
        "def angka(a, b, c):\n",
        "  print(a, b, c)\n",
        "\n",
        "# argumen posisi\n",
        "# argumen berdasarkan posisinya\n",
        "angka(1, 2, 3)\n",
        "\n",
        "# argumen berdasarkan kata kuncinya\n",
        "angka(a=1, b=2, c=3)\n",
        "angka(c=3, b=2, a=1)\n",
        "# catatan : jika sudah diberi kunci maka urutan tidak menjadi penting\n",
        "\n",
        "# campuran antara argumen posisi dan argumen kata kunci\n",
        "angka(1, b=2, c=3)\n",
        "\n",
        "# ini tidak diijinkan:\n",
        "# angka(1, b=2, 3) # argumen posisional setelah argumen kunci\n",
        "# angka(1, b=2, a=3) # terdapat dua nilai untuk argumen kunci 'a'"
      ],
      "execution_count": null,
      "outputs": [
        {
          "output_type": "stream",
          "name": "stdout",
          "text": [
            "1 2 3\n",
            "1 2 3\n",
            "1 2 3\n",
            "1 2 3\n"
          ]
        }
      ]
    },
    {
      "cell_type": "markdown",
      "metadata": {
        "id": "nr5wx_nxSPG8"
      },
      "source": [
        "## Argumen Default\n",
        "\n",
        "Fungsi dapat memiliki argumen default dengan nilai yang telah ditentukan sebelumnya. Argumen ini dapat ditinggalkan dan nilai default kemudian diteruskan ke fungsi, atau argumen dapat diubah dengan nilai yang berbeda. Perhatikan bahwa argumen default harus ditentukan sebagai **parameter terakhir** dalam suatu fungsi."
      ]
    },
    {
      "cell_type": "code",
      "metadata": {
        "colab": {
          "base_uri": "https://localhost:8080/"
        },
        "id": "8wkFC61US5lu",
        "outputId": "15f94251-d261-41c5-f22a-42a477cf8700"
      },
      "source": [
        "# argumen default\n",
        "def angka2(a, b, c, d=4):\n",
        "  print(a, b, c, d)\n",
        "\n",
        "angka2(1, 2, 3, 4)\n",
        "angka2(1, b=2, c=3, d=100)\n",
        "\n",
        "# argumen default harus diletakkan terakhir"
      ],
      "execution_count": null,
      "outputs": [
        {
          "output_type": "stream",
          "name": "stdout",
          "text": [
            "1 2 3 4\n",
            "1 2 3 100\n"
          ]
        }
      ]
    },
    {
      "cell_type": "markdown",
      "metadata": {
        "id": "YN7FMXtCYH2M"
      },
      "source": [
        "## Praktik membuat fungsi"
      ]
    },
    {
      "cell_type": "code",
      "metadata": {
        "colab": {
          "base_uri": "https://localhost:8080/"
        },
        "id": "d0Lazei_YNAP",
        "outputId": "0b77e95c-b559-45c8-dfa7-83066ce17058"
      },
      "source": [
        "x = 1\n",
        "y = 2\n",
        "x*y"
      ],
      "execution_count": null,
      "outputs": [
        {
          "output_type": "execute_result",
          "data": {
            "text/plain": [
              "2"
            ]
          },
          "metadata": {},
          "execution_count": 11
        }
      ]
    },
    {
      "cell_type": "code",
      "metadata": {
        "colab": {
          "base_uri": "https://localhost:8080/"
        },
        "id": "xED1nyLeYVvq",
        "outputId": "4c9dd1e1-c85d-4db8-e17d-c803dbb5b7d9"
      },
      "source": [
        "def penjumlahan(x, y): # input\n",
        "  a=x+y                # proses\n",
        "  return a             # output\n",
        "\n",
        "penjumlahan(1, 2)"
      ],
      "execution_count": null,
      "outputs": [
        {
          "output_type": "execute_result",
          "data": {
            "text/plain": [
              "3"
            ]
          },
          "metadata": {},
          "execution_count": 12
        }
      ]
    },
    {
      "cell_type": "markdown",
      "metadata": {
        "id": "0dPliLUKYoRS"
      },
      "source": [
        "penjumlahan yang memungkinkan untuk tiga bilangan"
      ]
    },
    {
      "cell_type": "code",
      "metadata": {
        "colab": {
          "base_uri": "https://localhost:8080/"
        },
        "id": "hAi7H8UbY0OJ",
        "outputId": "17587e3e-a1cd-4870-d208-688c714126d3"
      },
      "source": [
        "def penjumlahan(x,y,z=None):\n",
        "  if (z==None):\n",
        "    return x+y\n",
        "  else:\n",
        "    return x+y+z\n",
        "\n",
        "print(penjumlahan(1, 2))\n",
        "print(penjumlahan(1, 2, 3))"
      ],
      "execution_count": null,
      "outputs": [
        {
          "output_type": "stream",
          "name": "stdout",
          "text": [
            "3\n",
            "6\n"
          ]
        }
      ]
    },
    {
      "cell_type": "markdown",
      "metadata": {
        "id": "NZaWecx-ZNTT"
      },
      "source": [
        "menyimpan hasil fungsi dalam variabel"
      ]
    },
    {
      "cell_type": "code",
      "metadata": {
        "colab": {
          "base_uri": "https://localhost:8080/"
        },
        "id": "v563yelHZRng",
        "outputId": "b687fde4-adf9-4c3f-c4bb-e9865362dd09"
      },
      "source": [
        "def penjumlahan(x,y):\n",
        "  return x+y\n",
        "\n",
        "a = penjumlahan\n",
        "a(1,2)"
      ],
      "execution_count": null,
      "outputs": [
        {
          "output_type": "execute_result",
          "data": {
            "text/plain": [
              "3"
            ]
          },
          "metadata": {},
          "execution_count": 14
        }
      ]
    },
    {
      "cell_type": "markdown",
      "metadata": {
        "id": "BvzXjTaQZfeB"
      },
      "source": [
        "#### Latihan 1\n",
        "\n",
        "Buatlah Function pythagoras dengan input argumennya panjang tinggi dan alas segitiga untuk menghasilkan output nilai panjang sisi miring."
      ]
    },
    {
      "cell_type": "code",
      "metadata": {
        "colab": {
          "base_uri": "https://localhost:8080/"
        },
        "id": "0kst2X0VZ0fL",
        "outputId": "d090aa8b-fd42-4027-8a1c-2a8335760b7e"
      },
      "source": [
        "def pythagoras(tinggi,alas):\n",
        "  sisi_miring = (tinggi**2 + alas**2)**(1/2)\n",
        "  return sisi_miring\n",
        "  \n",
        "pythagoras(12,5)"
      ],
      "execution_count": 3,
      "outputs": [
        {
          "output_type": "execute_result",
          "data": {
            "text/plain": [
              "13.0"
            ]
          },
          "metadata": {},
          "execution_count": 3
        }
      ]
    },
    {
      "cell_type": "markdown",
      "metadata": {
        "id": "tTHlU26UZ1Gw"
      },
      "source": [
        "#### Latihan 2\n",
        "\n",
        "Buatlah Function luas permukaan balok dengan input argumennya panjang, lebar, dan tinggi dari balok untuk menghasilkan output nilai luas permukaan balok tersebut."
      ]
    },
    {
      "cell_type": "code",
      "metadata": {
        "colab": {
          "base_uri": "https://localhost:8080/"
        },
        "id": "FnpEYWSBaL_0",
        "outputId": "7ebd44e6-e95a-4f98-e096-f075f9dbb215"
      },
      "source": [
        "def LPbalok(panjang,lebar,tinggi):\n",
        "  luas_permukaan = 2*((panjang*lebar) + (panjang*tinggi) + (lebar*tinggi))\n",
        "  return luas_permukaan\n",
        "\n",
        "LPbalok(12,8,10)"
      ],
      "execution_count": 1,
      "outputs": [
        {
          "output_type": "execute_result",
          "data": {
            "text/plain": [
              "592"
            ]
          },
          "metadata": {},
          "execution_count": 1
        }
      ]
    }
  ]
}