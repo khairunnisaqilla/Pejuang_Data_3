{
  "nbformat": 4,
  "nbformat_minor": 0,
  "metadata": {
    "colab": {
      "name": "M4P1V4_Penggabungan_DataFrame.ipynb",
      "provenance": [],
      "collapsed_sections": [],
      "authorship_tag": "ABX9TyMIC+nfIrsDrfu3S2SYBCDa",
      "include_colab_link": true
    },
    "kernelspec": {
      "name": "python3",
      "display_name": "Python 3"
    },
    "language_info": {
      "name": "python"
    }
  },
  "cells": [
    {
      "cell_type": "markdown",
      "metadata": {
        "id": "view-in-github",
        "colab_type": "text"
      },
      "source": [
        "<a href=\"https://colab.research.google.com/github/khairunnisaqilla/Pejuang_Data_3/blob/main/M4P1V4_Penggabungan_DataFrame.ipynb\" target=\"_parent\"><img src=\"https://colab.research.google.com/assets/colab-badge.svg\" alt=\"Open In Colab\"/></a>"
      ]
    },
    {
      "cell_type": "markdown",
      "metadata": {
        "id": "pTBsOqdvDXii"
      },
      "source": [
        "# Penggabungan Series/Dataframe\n",
        "\n",
        "Terdapat beberapa metode untuk menggabungkan Series/Dataframe di Pandas, yaitu:\n",
        "\n",
        "1. Append\n",
        "2. Concat\n",
        "3. Merge\n",
        "4. Join"
      ]
    },
    {
      "cell_type": "markdown",
      "metadata": {
        "id": "6Xx7-Q9SDdKb"
      },
      "source": [
        "# Import Library\n",
        "\n",
        "Import beberapa library berikut untuk digunakan di sepanjang notebook ini:"
      ]
    },
    {
      "cell_type": "code",
      "metadata": {
        "id": "4A-8NsYHlFMK"
      },
      "source": [
        "import pandas as pd"
      ],
      "execution_count": 53,
      "outputs": []
    },
    {
      "cell_type": "markdown",
      "metadata": {
        "id": "GoCk7JxEDrjD"
      },
      "source": [
        "## Append\n",
        "Method **.append()** dapat digunakan pada dataframe/series yang ditujukan untuk menambah row-nya saja. "
      ]
    },
    {
      "cell_type": "code",
      "metadata": {
        "colab": {
          "base_uri": "https://localhost:8080/"
        },
        "id": "uftbRfTjDtk-",
        "outputId": "5ba90479-a84d-4e49-a821-2159bc15cc55"
      },
      "source": [
        "# Membuat series of int (s1) dan series of string (s2)\n",
        "s1 = pd.Series([1,2,3,4,5,6])\n",
        "s2 = pd.Series([\"a\",\"b\",\"c\",\"d\",\"e\",\"f\"])\n",
        "# Menerapkan method append\n",
        "s1_append_s2 = s1.append(s2)\n",
        "print(\"Series - append:\\n\", s1_append_s2)"
      ],
      "execution_count": 54,
      "outputs": [
        {
          "output_type": "stream",
          "name": "stdout",
          "text": [
            "Series - append:\n",
            " 0    1\n",
            "1    2\n",
            "2    3\n",
            "3    4\n",
            "4    5\n",
            "5    6\n",
            "0    a\n",
            "1    b\n",
            "2    c\n",
            "3    d\n",
            "4    e\n",
            "5    f\n",
            "dtype: object\n"
          ]
        }
      ]
    },
    {
      "cell_type": "markdown",
      "metadata": {
        "id": "okwi0nttDvCu"
      },
      "source": [
        "Untuk **Dataframe**"
      ]
    },
    {
      "cell_type": "code",
      "metadata": {
        "colab": {
          "base_uri": "https://localhost:8080/"
        },
        "id": "vF8H5F5iDwBH",
        "outputId": "ab84be3a-0647-4afe-e6ff-d432e044348a"
      },
      "source": [
        "# Buat dataframe df1 dan df2\n",
        "df1 = pd.DataFrame({'a':[1,2],\n",
        "                    'b':[3,4]})\n",
        "print(\"df1:\\n\", df1)\n",
        "df2 = pd.DataFrame({'b':[1,2],\n",
        "                    'a':[3,4]})\n",
        "print(\"df2:\\n\", df2)\n",
        "# Terapkan method append\n",
        "df1_append_df2 = df1.append(df2)\n",
        "print(\"Dataframe - append:\\n\", df1_append_df2)"
      ],
      "execution_count": 55,
      "outputs": [
        {
          "output_type": "stream",
          "name": "stdout",
          "text": [
            "df1:\n",
            "    a  b\n",
            "0  1  3\n",
            "1  2  4\n",
            "df2:\n",
            "    b  a\n",
            "0  1  3\n",
            "1  2  4\n",
            "Dataframe - append:\n",
            "    a  b\n",
            "0  1  3\n",
            "1  2  4\n",
            "0  3  1\n",
            "1  4  2\n"
          ]
        }
      ]
    },
    {
      "cell_type": "markdown",
      "metadata": {
        "id": "qLLCLCqeEojV"
      },
      "source": [
        "##Concat\n",
        "\n",
        "Method **.concat()** dapat digunakan pada dataframe yang ditujukan untuk penggabungan baik dalam row-wise (dalam arah) atau column-wise."
      ]
    },
    {
      "cell_type": "code",
      "metadata": {
        "colab": {
          "base_uri": "https://localhost:8080/"
        },
        "id": "GqI19N2IEsJM",
        "outputId": "4c32f008-2963-477b-b407-c95ff71abcd4"
      },
      "source": [
        "# Membuat dataframe df1 dan df2\n",
        "df1 = pd.DataFrame({'a':[1,2],\n",
        "                    'b':[3,4]})\n",
        "print(\"df1:\\n\", df1)\n",
        "df2 = pd.DataFrame({'b':[1,2],\n",
        "                    'a':[3,4]})\n",
        "print(\"df2:\\n\", df2)\n",
        "# Menerapkan method concat row-wise\n",
        "row_wise_concat = pd.concat([df1,df2])\n",
        "print(\"Row-wise - concat:\\n\", row_wise_concat)"
      ],
      "execution_count": 56,
      "outputs": [
        {
          "output_type": "stream",
          "name": "stdout",
          "text": [
            "df1:\n",
            "    a  b\n",
            "0  1  3\n",
            "1  2  4\n",
            "df2:\n",
            "    b  a\n",
            "0  1  3\n",
            "1  2  4\n",
            "Row-wise - concat:\n",
            "    a  b\n",
            "0  1  3\n",
            "1  2  4\n",
            "0  3  1\n",
            "1  4  2\n"
          ]
        }
      ]
    },
    {
      "cell_type": "markdown",
      "metadata": {
        "id": "4RPDFDgNEu4q"
      },
      "source": [
        "Untuk penerapan concat pada **column-wise**"
      ]
    },
    {
      "cell_type": "code",
      "metadata": {
        "colab": {
          "base_uri": "https://localhost:8080/"
        },
        "id": "8k0RsxP6ExGJ",
        "outputId": "4cc989f6-8dea-4dd2-a82b-001128c05c9d"
      },
      "source": [
        "# Terapkan method concat column-wise\n",
        "col_wise_concat = pd.concat([df1, df2], axis=1)\n",
        "print(\"Column-wise - concat:\\n\", col_wise_concat)"
      ],
      "execution_count": 57,
      "outputs": [
        {
          "output_type": "stream",
          "name": "stdout",
          "text": [
            "Column-wise - concat:\n",
            "    a  b  b  a\n",
            "0  1  3  1  3\n",
            "1  2  4  2  4\n"
          ]
        }
      ]
    },
    {
      "cell_type": "markdown",
      "metadata": {
        "id": "0GqbG5byEzGJ"
      },
      "source": [
        "Dapat juga menambahkan identifier dari dataframe untuk data yang ditambahkan"
      ]
    },
    {
      "cell_type": "code",
      "metadata": {
        "colab": {
          "base_uri": "https://localhost:8080/"
        },
        "id": "R-MnWfuDE6yK",
        "outputId": "b76baa04-b6c9-43c6-931e-889916626268"
      },
      "source": [
        "# Penambahan identifier --> membentuk hasil penggabungan multiindex\n",
        "multiindex_concat = pd.concat([df1,df2],axis=0,keys=['df1','df2'])\n",
        "print(\"Multiindex - concat:\\n\", multiindex_concat)"
      ],
      "execution_count": 58,
      "outputs": [
        {
          "output_type": "stream",
          "name": "stdout",
          "text": [
            "Multiindex - concat:\n",
            "        a  b\n",
            "df1 0  1  3\n",
            "    1  2  4\n",
            "df2 0  3  1\n",
            "    1  4  2\n"
          ]
        }
      ]
    },
    {
      "cell_type": "markdown",
      "metadata": {
        "id": "ADURT2BQE2cX"
      },
      "source": [
        "## Merge \n",
        "Method **.merge()** untuk menggabungkan Series/Dataframe yang bentuknya mirip dengan syntax join di SQL, specify left and right tables, join key dan how to join (left, right, inner, full outer)."
      ]
    },
    {
      "cell_type": "code",
      "metadata": {
        "colab": {
          "base_uri": "https://localhost:8080/"
        },
        "id": "Jl49lNLhE8OS",
        "outputId": "ae702410-3479-4f8b-bd58-59f0286e0f4d"
      },
      "source": [
        "# Membuat dataframe df1 dan df2\n",
        "df1 = pd.DataFrame({\n",
        "   'key':['k1','k2','k3','k4','k5'],\n",
        "   'val1':[200, 500, 0, 500, 100],\n",
        "   'val2':[30, 50, 100, 20, 10]\n",
        "})\n",
        "print(\"df1:\\n\", df1)\n",
        "df2 = pd.DataFrame({\n",
        "   'key':['k1','k3','k5','k7','k10'],\n",
        "   'val3':[1,2,3,4,5],\n",
        "   'val4':[6,7,8,8,10]\n",
        "})\n",
        "print(\"df2:\\n\", df2)"
      ],
      "execution_count": 59,
      "outputs": [
        {
          "output_type": "stream",
          "name": "stdout",
          "text": [
            "df1:\n",
            "   key  val1  val2\n",
            "0  k1   200    30\n",
            "1  k2   500    50\n",
            "2  k3     0   100\n",
            "3  k4   500    20\n",
            "4  k5   100    10\n",
            "df2:\n",
            "    key  val3  val4\n",
            "0   k1     1     6\n",
            "1   k3     2     7\n",
            "2   k5     3     8\n",
            "3   k7     4     8\n",
            "4  k10     5    10\n"
          ]
        }
      ]
    },
    {
      "cell_type": "markdown",
      "metadata": {
        "id": "L0lr9UynF8gd"
      },
      "source": [
        "pd.merge yang ekivalen dengan SQL **left join**"
      ]
    },
    {
      "cell_type": "code",
      "metadata": {
        "colab": {
          "base_uri": "https://localhost:8080/"
        },
        "id": "N_36LTVlF4tN",
        "outputId": "bf7a66cb-72a6-424a-97fb-ec840cff734d"
      },
      "source": [
        "# Merge yang ekivalen dengan SQL left join\n",
        "merge_df_left = pd.merge(left=df1, right=df2, how='left', left_on='key',right_on='key')\n",
        "print('Merge - Left:\\n', merge_df_left)"
      ],
      "execution_count": 60,
      "outputs": [
        {
          "output_type": "stream",
          "name": "stdout",
          "text": [
            "Merge - Left:\n",
            "   key  val1  val2  val3  val4\n",
            "0  k1   200    30   1.0   6.0\n",
            "1  k2   500    50   NaN   NaN\n",
            "2  k3     0   100   2.0   7.0\n",
            "3  k4   500    20   NaN   NaN\n",
            "4  k5   100    10   3.0   8.0\n"
          ]
        }
      ]
    },
    {
      "cell_type": "markdown",
      "metadata": {
        "id": "GC_U1WVlF34S"
      },
      "source": [
        "pd.merge yang ekivalen dengan SQL **right join**"
      ]
    },
    {
      "cell_type": "code",
      "metadata": {
        "colab": {
          "base_uri": "https://localhost:8080/"
        },
        "id": "VP-C69gjGCdu",
        "outputId": "306485c8-22d5-4723-8b27-3524a4aee788"
      },
      "source": [
        "# Merge yang ekivalen dengan SQL right join\n",
        "merge_df_right = pd.merge(left=df1, right=df2, how='right', left_on='key',right_on='key')\n",
        "print('Merge - Right:\\n', merge_df_right)"
      ],
      "execution_count": 61,
      "outputs": [
        {
          "output_type": "stream",
          "name": "stdout",
          "text": [
            "Merge - Right:\n",
            "    key   val1   val2  val3  val4\n",
            "0   k1  200.0   30.0     1     6\n",
            "1   k3    0.0  100.0     2     7\n",
            "2   k5  100.0   10.0     3     8\n",
            "3   k7    NaN    NaN     4     8\n",
            "4  k10    NaN    NaN     5    10\n"
          ]
        }
      ]
    },
    {
      "cell_type": "markdown",
      "metadata": {
        "id": "eHW8GK7CGEdP"
      },
      "source": [
        "pd.merge yang ekivalen dengan SQL **inner join**"
      ]
    },
    {
      "cell_type": "code",
      "metadata": {
        "colab": {
          "base_uri": "https://localhost:8080/"
        },
        "id": "X82hmSH7Ghnw",
        "outputId": "6f17c853-6b4b-4d4e-980c-8ce495745698"
      },
      "source": [
        "# Merge yang ekivalen dengan SQL inner join\n",
        "merge_df_inner = pd.merge(left=df1, right=df2, how='inner', left_on='key',right_on='key')\n",
        "print('Merge - Inner:\\n', merge_df_inner)"
      ],
      "execution_count": 62,
      "outputs": [
        {
          "output_type": "stream",
          "name": "stdout",
          "text": [
            "Merge - Inner:\n",
            "   key  val1  val2  val3  val4\n",
            "0  k1   200    30     1     6\n",
            "1  k3     0   100     2     7\n",
            "2  k5   100    10     3     8\n"
          ]
        }
      ]
    },
    {
      "cell_type": "markdown",
      "metadata": {
        "id": "sjIquSzwGkAn"
      },
      "source": [
        "pd.merge yang ekivalen dengan SQL **outer join**"
      ]
    },
    {
      "cell_type": "code",
      "metadata": {
        "colab": {
          "base_uri": "https://localhost:8080/"
        },
        "id": "PTTPVGk9Glqr",
        "outputId": "3937a410-7f95-4045-ed67-8eb54859e3a0"
      },
      "source": [
        "# Merge yang ekivalen dengan SQL outer join\n",
        "merge_df_outer = pd.merge(left=df1, right=df2, how='outer', left_on='key',right_on='key')\n",
        "print('Merge - Outer:\\n', merge_df_outer)"
      ],
      "execution_count": 63,
      "outputs": [
        {
          "output_type": "stream",
          "name": "stdout",
          "text": [
            "Merge - Outer:\n",
            "    key   val1   val2  val3  val4\n",
            "0   k1  200.0   30.0   1.0   6.0\n",
            "1   k2  500.0   50.0   NaN   NaN\n",
            "2   k3    0.0  100.0   2.0   7.0\n",
            "3   k4  500.0   20.0   NaN   NaN\n",
            "4   k5  100.0   10.0   3.0   8.0\n",
            "5   k7    NaN    NaN   4.0   8.0\n",
            "6  k10    NaN    NaN   5.0  10.0\n"
          ]
        }
      ]
    },
    {
      "cell_type": "markdown",
      "metadata": {
        "id": "8unqHZhWGvY2"
      },
      "source": [
        "Bagaimana jika salah satu dataframe atau keseluruhan dataframe yang akan digabungkan tersebut memiliki multiindex?"
      ]
    },
    {
      "cell_type": "code",
      "metadata": {
        "colab": {
          "base_uri": "https://localhost:8080/"
        },
        "id": "7CTsNG9QGyci",
        "outputId": "227acfe4-79fa-4110-a20a-9ca4c2737951"
      },
      "source": [
        "# Membuat dataframe df1 dan df2\n",
        "df1 = pd.DataFrame({\n",
        "   'key':['k1','k2','k3','k4','k5'],\n",
        "   'val1':[200, 500, 0, 500, 100],\n",
        "   'val2':[30, 50, 100, 20, 10]\n",
        "}).set_index(['key','val2'])\n",
        "print('Dataframe 1:\\n', df1)\n",
        "df2 = pd.DataFrame({\n",
        "   'key':['k1','k3','k5','k7','k10'],\n",
        "   'val3':[1,2,3,4,5],\n",
        "   'val4':[6,7,8,8,10]\n",
        "}).set_index(['key','val3'])\n",
        "print('Dataframe 2:\\n', df2)"
      ],
      "execution_count": 64,
      "outputs": [
        {
          "output_type": "stream",
          "name": "stdout",
          "text": [
            "Dataframe 1:\n",
            "           val1\n",
            "key val2      \n",
            "k1  30     200\n",
            "k2  50     500\n",
            "k3  100      0\n",
            "k4  20     500\n",
            "k5  10     100\n",
            "Dataframe 2:\n",
            "           val4\n",
            "key val3      \n",
            "k1  1        6\n",
            "k3  2        7\n",
            "k5  3        8\n",
            "k7  4        8\n",
            "k10 5       10\n"
          ]
        }
      ]
    },
    {
      "cell_type": "code",
      "metadata": {
        "colab": {
          "base_uri": "https://localhost:8080/"
        },
        "id": "RPwLVTyVG6HQ",
        "outputId": "7fbb7e55-6241-4d32-f0f9-4af9fb414b36"
      },
      "source": [
        "# Merge dataframe yang memiliki multi index\n",
        "df_merge = pd.merge(df1.reset_index(),df2.reset_index())\n",
        "print('Merging dataframe:\\n', df_merge)"
      ],
      "execution_count": 65,
      "outputs": [
        {
          "output_type": "stream",
          "name": "stdout",
          "text": [
            "Merging dataframe:\n",
            "   key  val2  val1  val3  val4\n",
            "0  k1    30   200     1     6\n",
            "1  k3   100     0     2     7\n",
            "2  k5    10   100     3     8\n"
          ]
        }
      ]
    },
    {
      "cell_type": "markdown",
      "metadata": {
        "id": "J4XbXy2IG1uW"
      },
      "source": [
        "## Join\n",
        "Metthod **.join()** digunakan pada dataframe untuk menggabungkan kedua data dengan set index pada kedua tabel tersebut sebagai join key, tanpa index, hal ini tidak akan berhasil.\n"
      ]
    },
    {
      "cell_type": "code",
      "metadata": {
        "id": "pTHvpy2SG8AN"
      },
      "source": [
        "# Buat dataframe df1 dan df2\n",
        "df1 = pd.DataFrame({\n",
        "   'key':['k1','k2','k3','k4','k5'],\n",
        "   'val1':[200, 500, 0, 500, 100],\n",
        "   'val2':[30, 50, 100, 20, 10]\n",
        "})\n",
        "df2 = pd.DataFrame({\n",
        "   'key':['k1','k3','k5','k7','k10'],\n",
        "   'val3':[1,2,3,4,5],\n",
        "   'val4':[6,7,8,8,10]\n",
        "})\n",
        "# Penerapan join dengan menggunakan set_index dan keyword how\n",
        "# df1.join(df2) #<-- akan error"
      ],
      "execution_count": 66,
      "outputs": []
    },
    {
      "cell_type": "code",
      "metadata": {
        "colab": {
          "base_uri": "https://localhost:8080/"
        },
        "id": "y3xTegDJG-CL",
        "outputId": "1ba0b8d7-ed77-4ca8-e76f-0c993d9616c3"
      },
      "source": [
        "print(df1.set_index('key').join(df2.set_index('key')))"
      ],
      "execution_count": 67,
      "outputs": [
        {
          "output_type": "stream",
          "name": "stdout",
          "text": [
            "     val1  val2  val3  val4\n",
            "key                        \n",
            "k1    200    30   1.0   6.0\n",
            "k2    500    50   NaN   NaN\n",
            "k3      0   100   2.0   7.0\n",
            "k4    500    20   NaN   NaN\n",
            "k5    100    10   3.0   8.0\n"
          ]
        }
      ]
    },
    {
      "cell_type": "markdown",
      "metadata": {
        "id": "xmK-dZ1RG_-u"
      },
      "source": [
        "Untuk tipe join yang lain (contoh=inner), harus menspecify keyword how='inner' seperti yang dicontohkan berikut ini"
      ]
    },
    {
      "cell_type": "code",
      "metadata": {
        "colab": {
          "base_uri": "https://localhost:8080/"
        },
        "id": "3DLoJHwhHBIW",
        "outputId": "b0268a74-6484-4743-ca0d-7982510a9d56"
      },
      "source": [
        "join_df = df1.set_index('key').join(df2.set_index('key'), how='inner')\n",
        "print(join_df)"
      ],
      "execution_count": 68,
      "outputs": [
        {
          "output_type": "stream",
          "name": "stdout",
          "text": [
            "     val1  val2  val3  val4\n",
            "key                        \n",
            "k1    200    30     1     6\n",
            "k3      0   100     2     7\n",
            "k5    100    10     3     8\n"
          ]
        }
      ]
    }
  ]
}