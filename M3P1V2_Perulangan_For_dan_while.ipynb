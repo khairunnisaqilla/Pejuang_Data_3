{
  "nbformat": 4,
  "nbformat_minor": 0,
  "metadata": {
    "colab": {
      "name": "M3P1V2_Perulangan_For_dan_while.ipynb",
      "provenance": [],
      "collapsed_sections": [],
      "authorship_tag": "ABX9TyM0+0AOQ0kavx+kVyB9MDzJ",
      "include_colab_link": true
    },
    "kernelspec": {
      "name": "python3",
      "display_name": "Python 3"
    },
    "language_info": {
      "name": "python"
    }
  },
  "cells": [
    {
      "cell_type": "markdown",
      "metadata": {
        "id": "view-in-github",
        "colab_type": "text"
      },
      "source": [
        "<a href=\"https://colab.research.google.com/github/khairunnisaqilla/Pejuang_Data_3/blob/main/M3P1V2_Perulangan_For_dan_while.ipynb\" target=\"_parent\"><img src=\"https://colab.research.google.com/assets/colab-badge.svg\" alt=\"Open In Colab\"/></a>"
      ]
    },
    {
      "cell_type": "markdown",
      "metadata": {
        "id": "6VLw41eBGMcW"
      },
      "source": [
        "# Looping/Perulangan\n",
        "\n",
        "Python menyediakn dua statement untuk melakukan proses perulangan yaitu for dan while. Diantara kedua statement ini, secara umum for lebih banyak digunakan daripada while."
      ]
    },
    {
      "cell_type": "markdown",
      "metadata": {
        "id": "0kiW8EYOBJFJ"
      },
      "source": [
        "## For Loop\n",
        "\n",
        "Perulangan `for` digunakan untuk melakukan iterasi di dalam `sequence` seperti `list`, `tuple`, `string`, dan `array` atau objek yang dapat diiterasi lainnya."
      ]
    },
    {
      "cell_type": "markdown",
      "metadata": {
        "id": "DQ1TfwSDBxlA"
      },
      "source": [
        "### For Loop Syntax\n",
        "\n",
        "```\n",
        "for val in sequence:\n",
        "    loop body\n",
        "```"
      ]
    },
    {
      "cell_type": "markdown",
      "metadata": {
        "id": "0dvjfIWrB3UX"
      },
      "source": [
        "### For Loop flowchart\n",
        "\n",
        "![download.jpg](data:image/jpeg;base64,/9j/4AAQSkZJRgABAQAAAQABAAD/2wCEAAoHCBUWFRUSEhIZGBgaEhoaFRIVGBUVGBgYGRoZGhkYGRgcIS4lHB4tIRgYJjgnKy8/NTU1GiQ/QDs0Py40NTEBDAwMDw8PEBEPHjEdHB0xMTE0MTE0MTExNDExMTExMTExMTExMTExMTExMTExMTExMTExMTExMTExMTExMTExMf/AABEIASkAqQMBIgACEQEDEQH/xAAbAAEBAAMBAQEAAAAAAAAAAAAABAEDBQIGB//EAEAQAAIBAgMEBwYEBAQHAQAAAAECAAMRBBIhBTFBURMUIjJhc7EGM3GRktFTgaGzFSNCclJi0vBjgqKyweHxJP/EABQBAQAAAAAAAAAAAAAAAAAAAAD/xAAUEQEAAAAAAAAAAAAAAAAAAAAA/9oADAMBAAIRAxEAPwD9miIgIiICIiAiIgJiZkuIqENTAt26hU35BHbTxuo/WBqfaCCsuH1NQoXsqkhVva7NuFzpLcw5z5ra2w3etXq0iqM+CNNKt7MtQse1pqBawvJ6Ow6pzfyxTRq2HPV1ckBaZPSNmHFgQLDeF13wPrcw33i43Tg+0GzXqLRWkLojkvRuozrkZVAzAqbEg2PLnaQHY2JD0MpGWm1G1RmTpCi+8Vmy5mPDQgEQPpMZjEphS5tmqIgsL9pzlUH8zKVnyNPYVQ0kpvTUuuJpvUr5yTWVamdmOlwbcOeg0na2BgWoo9N7W6xVamASQtNnJRdd1gd3CB1oiICIiAiIgIiICIiAiIgIiICR43v4fzj+1Vlkjxvfw/nH9qrAlxm2KdIv0pCqvR2bMCWLlgBkGo7u879eUoG0qOcUxVTMVDKmYXKkXBA5WBP5SHaexmqdOVqBWqJSCkrmCtSdnBIBFwSw+U0JsA9M1VnVg9QVGUhwVqCmEulny20G8E6kX10C9tuYbW+JpaZb9tdM/d48ZRicTlamLA53K3LBbWVmuAdW7u4fHhOJU9l70jSFQC+CGHzBN1mzZ7X58J1cds/pGoNmt0VRnta+a9N0te+nfv8AlA24TaFKqSKVVHIAJCsGsDuOnAyycLY+wugak3SZsmDWhbLbNlYtm36fCd6AiIgIiICIiAiIgIiICIiAiIgJHje/h/OP7VWWSPG9/D+cf2qsDS216QqvRJbMiB6jZTlVSCQWb4KflJaftNh2F1LklkC08jZm6QEoVXiCFY+GU3tN2M2LTq1BUqXaysoXsgWZWRgSBmIsx0JtfWaR7PoFVc73R1em4FNXQqCAAVUZhYkG973gbML7QUHy5S12WqQGRlNqD5KlwRoQ2njMD2hw+ZEzG7CmQbGy9N7oMeBb7XteQbN9mrIvSu4damIs6PctTr1GYqxI4jKdNQROhQ2DTR1dSwISmhBCMHFIWQm6kggcRaB5T2koG5LMqim9TOyuqlKbZXIJGtiR89LxW9oaKqruHXOGZVKMHKoAWfLvC2I8dbb9Jip7OUGVUbMVWlVpgX/prEM/53UW5TNTYCtkLVHZkDKtRhTZsjZbqQUykdldbX0gdWlVDKrKbhgCpHEEXBm2eEUAADcBYCe4CIiAiIgIiICIiAiIgIiICcD2gasKmG6I2Bq2PZBsSpF/pLzsVaoFhvJ3KN5+w8TNfVs2rm54WJAX+3x8YFcSQVCCFfdwfcD4NyP6H9JUDAzERAREQEREBERAREQEREBERARE8sYGbyepWJOVBc8Sdy/Hx8J5Ll9FNl4sN58F/wBXy5zfTQKLKLCB4pUQNb3J3sd5+w8JumYgeGUG4Ot+Bkygpuuy8t7L8OY8N4lkxaB5VwQCDcHcRPclamQcyfFkO48yOTev6zZTqht3OxB3g8iIG6IiAiIgIiICIiAiIgIiaKtYDTUk7lG8/YeMD3UcKLk2E0BC2rCy8F4nxb7fPlPVOkb5n1PADcvw8fH47t0oAgAJmJgwOXiMcy4qhhwBlejWdib5gUNMADw7Z+QmnE7fpI7U3DgqjvcBWzCmMzgBWLA21sQLynHbLSq6VGZ1dFZVam7IQr5SwOU63yL8ppp7ApK2dS4a7lTnbsmoLOV8Tv8AjAnT2gzNhlWhUK1y9mzUjlCi9+y5B56HQDnpO8pnKp7BpLkK5wyVWqBw5DF37+a2hB4i1p1gIGZoq0bnMDZhubw5EcRN8QJ6Va5ysLNbdwI5qeIlE01KQYWP5EaEHmDwM1q5Xsvu3K+4HkDyP6H9IFUxME//AGfI4ba1ZDiGrsWTCK6uVy3rsxzUzoOzZCt7cW8IH18zPmK/tC6rnfDlVDEPVY1FpqmQOHJyXtc5bkWFibz6YQMxEQJesMSQqXANr5gNdOB+M81K9QKSKWoU27SnW094Xe/mH0WUwPn9mbUxDrephimnf/p+OQnMRx0+c69BFGoOYne+hJ5buH6SmSPSKnMnE9pOB8Ryb9Dx5wK4mmjVDC4/MHQg8iJugJgzMQPl9rbTqU2r9FvV8Kv8x7oBUcqcq27J11Nzz4a7l9oGNWpTWgSqVCjuMxswp9JmJy2y3IXffW9rTr18DScOHpqwcAOCoOYL3Q3O155Gz6ObP0SZrZc2UXtbLa/w0+ED5+p7U1VQucMthh6NcgVDfJVNiB2O8D+XjPrAZIdn0iuU0ky5AhXKtsi91LW7o4CVwMxEQE8OoOh1FtQeInoyUOW0Q2Xi/PwX77uUDXnZWyoCw4i/d8Mx3jw3j4TApd//APOO37ztL29Mva56aSynTCiwFh/vU8zNkDjjZyZQnVFyg3C5lsN3D/lX5CXCq/4X/WsqiBNTrsWysmXs3BuDuIHD4ymTN71fLb1WUwJsLvfzD6LKZNhd7+YfRZTAREQJ6tC/aU2a1r77jkRxEUquuVhZuXA+KniP9mUTVUpBt/5EaEHmDwMBXaysRvCkj8hPkKu2cUqYcs6A1cManSFMlMVLUylIljxzMf8AEbaCfUrUKnK5+D7gfA8AfX9JRaB8pW2/VFYoiZ7dIrUSACHp0jUUKRc2Zhlu2++m7Wda9Ss2BYYlXqGs5Zlp2FInD1LoUzcDpZjcGfa2i0D4ql7QYhhQHYRnoqwLgItWrnZGpjMezot7C5GYcIGNatisOHfu4rEIaAUqyKtOqqlnB1zLZh/dpun2tpgiBxfZnChabsrdl6rMtNWLJTC9jIhP9lz/AJi07FRwoJY2E8VawGm8nco3n/14zylIk5n1PADcvw5nxgeQpbvCy8E4n+7w/wAvz32FIFpkCZgIiICIiBM3vF8tvVZTJm94vlt6rKYE2F3v5h9FlMmwu9/MPospgIiICIiB4Kgggi/MHWT6pzZfmy/6h+o8ZXMGB5RwRcG44EcZ7kj0ipLJ8Sm4HxB4H9Dx5zbSqhhccNCDoQeRHCBtk71TfKmp433L8fHw9J56QtopsvF+fgn3+V+G6mgUWAsP9/MwPNGkBcnUnex3n7Dwm60zEBERAREQERECZveL5beqymTN7xfLb1WUwJsLvfzD6LKZNhd7+YfRZTAREQEREBERASDGoM9L/NUKtwzKKdRsp5i6g/lL5Hje/h/OP7VWBUFnqc07XpdY6qWtU6POFIIBXXceJ0OnhPeC2nTq06VZGAWqoanm7LMCLiynW/hAviYEzAREQEREBERAmb3i+W3qspkze8Xy29VlMCbC738w+iymTYXe/mH0WUwEREBERAREQEjxvfw/nH9qrLJHje/Q84/tVYHLxmw2qVq1bOFLUqQosLlkqUmqnMeYOcC3EXnIPsnVFJKQNNj1JMMzPm/lFSxNWl2dT2t2mqrrPt4ga6S2AF72AFzxsN82REBERAREQERECZveL5beqymTN7xfLb1WUwJsLvfzD6LKZNhd7+YfRZTAREQERMQMxPGccx84zjmPmIHuR43v0POP7VWU5xzHzE4e361UVMN0TCxq2OgNiVIv9JeB34njOOY+YjOOY+Yge4njOOY+cyGB3GB6iIgIiICIiBM3vF8tvVZTJm94vlt6rKYE2F3v5h9FlMgo4lFZwzqpznQsAdw4Tb16l+Kn1CBVEl69S/FT6hHXqX4qfUIFUk2gL02B5bviRM9epfip9QmjGYymUYCopJtYBhzEDf1Kl+En0L9o6jT/AAk+hftOJS9pr4jq/Rqf570uzVBqDIuY1GplRZNwvmnQXbmHOY9KAFVnLG6qUQ2dlYizKDvIgV9SpfhJ9C/aZ6jT/CT6V+05WB9oUepUQ9lQ1JUZg6l3qqzBSpGm79Z0DtOl0Zrlx0algX1tdWKEDn2gRA2dSpfhJ9C/aOpUvwk+hftONtP2kREQ0e2z1xSAZai5HtmOcBcw0tpa5vKNrbWNKrh6CpdqrkEnPZVVSSRYG503fmYHR6jT/CT6F+01pRVaoyIq3pm+UAXsy23fnJ027hyGIqCyozkkMAUQ2ZlJFmUHQkTfQxCu6shupptY2IvZlGl+EC+IiAiIgIiIEze8Xy29VlMmb3i+W3qspgYtMxEBERASXH9xvgPUSqS44dhrDhw14jhA5I9nF6Qu1VipxJr9FlQAVCMvftmt4XmgeyaFOjaq7ItB6VEWUGmrkEm4HaYZVAJ4Djvnd66nM/S/2jricz9L/aBwNpbFqdHXyu1atV6PK7CmgpvS1p1LC2gazEC5nSr7HRsMMNmIChMrr3g6MrK+uhOZQdd8t66nM/S/2jricz9L/aBy02ALh3qsz9aWu72UBmRMiqFGirlt46b5di9nh6lGqWINMvZRubOpU348bzd1xOZ+l/tHXE5n6X+0Dh0/ZdAuQ1nKrh3o0gQo6Om5UnX+ojKACeA47z2wLVVH/CP/AHLM9cTmfpf7TwlUNUuL2CEEkMNSy6aiBbERAREQERECZveL5beqymTN7xfLb1WUwEREBERAREQEREBERAREQExaZiAiIgIiICIiBM3vF8tvVZTJm94vlt6rKYCIiAiIgIiICIiAiIgIiICIkmOxiUlz1GyrmC3sTqxCqABqSSQIFcTRhsQrqHW9juzKynQ23MAeE1pjFJsSVJqFFDAqWZQSct+8LAm40sIFcSY4pekFG/bNMuBY90EAm+7eRKLwMxMXmYEze8Xy29VlMmb3q+W3qspgIiICIiAiIgIiICIiAiIgJxfafAvWohKYuwrUntmymyVFdrNwNlNjznamLQPk8dsqu5pOq5QqgVUeqXasoqBujZ7cAC1/G2689YnYbs9Oo1NXy4+pUsWAIpOrAEX4hirW8J9VaLQPnNvbKrVXdqTBc2DamGzFTmNRWy3GoBUMMw3XkR2LWKtamFpnEU36kKlwyIlnUtuF2s2Xccovvn2FotA+DqbLqBqNF6QqZqWLYUC5yIr1KZRM535AwHztun1+ycO9OjSp1GzutNVd9TmYAAm53yzLMgQOHiNoVBjEoimCrISHu3d3sd1rgrb8xO5NfQrmD5RmAIDcQCQSP0Hym2AiIgIiICJicyttZQ708jEpTDs10VQpDkaswP8AQeGnGB1InPG1aNyprUwwXMyF1uosGN9eAYH4EcxNtfHUkZVeois3dVmALagaA+JA/MQK4kK7UoHMBWpnJ3gHXs2Yprr/AIgV+OkfxOhe3TJfIHIzqTlbRWsDuPOBdE5n8Yolyi1FZgEJAZe7UNkYEmxB03cxNv8AFKFiemSwIBOZdCb2B142PyMC6JHUx9JVWo1RQjWyuWAVri4seOgvNdHadNnqopFqaqzPmW3aGbnutY33awOhE5WD23RdaZzqrVFzIjMuYgkhTYHjY/I8ptq7UphBURg6moqBkIYXZlXfu0zCB0InPG1qFmYV6dlIDHOpAJJAB13kg252npdqUSyoKyFmAKKHUlgwJUgX1uAbc7GBdERAREQEREBERAxOdW2VTZqtRh2qlIU2Ol1UB17JtcXDn5CdKYgcFNistUstQqgDFbFWYO6qhYArYaLxuPhK8dslajB2dx2VVlBWzqrZgrXBI7XFbbzOiZ6gfO0fZtSCarszCo7JlK5aeasaoyjLqbhb5r7pZ/BEswDMubo8xXItxTJIGULlscxuLWnWgwONR2DTQKqu9lSioUldega9NibXvvBtob7oobAprl7TnIUyXK9labMyILDUXY6nXxnYMQOY2xk6OnTVnXo1IRgVLWKlWBuCDcE8JRgsAlIEJexVVsTewRQqgfkJXMmBxjsGndO1UsopArdbOaJLUyxy3BBN+yQDbWULstBRShdsiFCuov8Ay2DLc25gXnRExA4dL2eRLZatQMoRab3QmmlPNkVRlsR23HaBJvv0nnDez4WpfO3RqtHIl1OZqWchnJW+9gdCNRO9A/8AMD1ERAREQP/Z)"
      ]
    },
    {
      "cell_type": "markdown",
      "metadata": {
        "id": "gE74FCDJCFWR"
      },
      "source": [
        "### Example: Python for Loop"
      ]
    },
    {
      "cell_type": "code",
      "metadata": {
        "colab": {
          "base_uri": "https://localhost:8080/"
        },
        "id": "MCGuRBd0CMcW",
        "outputId": "660c5e73-af35-41e7-ea50-4eb9b41db211"
      },
      "source": [
        "# Program untuk menghitung jumlah semua angka dalam sebuah list\n",
        "L1 = [2,4,5,7,9]\n",
        "jumlah = 0\n",
        "\n",
        "# iterasi di dalam list\n",
        "for i in L1:\n",
        "  jumlah = jumlah + i\n",
        "\n",
        "print(jumlah)"
      ],
      "execution_count": null,
      "outputs": [
        {
          "output_type": "stream",
          "name": "stdout",
          "text": [
            "27\n"
          ]
        }
      ]
    },
    {
      "cell_type": "markdown",
      "metadata": {
        "id": "ObPtmRlhDGwP"
      },
      "source": [
        "### The Range() Function"
      ]
    },
    {
      "cell_type": "code",
      "metadata": {
        "colab": {
          "base_uri": "https://localhost:8080/"
        },
        "id": "ocTLXDX5DRa9",
        "outputId": "3aa5da1c-da34-4e04-ba19-6625d86b27ef"
      },
      "source": [
        "# Program untuk melakukan iterasi di dalam list melalui indeks\n",
        "minuman = [\"teh\", \"boba\", \"kopi\", \"susu\"]\n",
        "p = len(minuman)\n",
        "\n",
        "# iterasi di dalam list melalui indeks\n",
        "for i in range(p):\n",
        "  print(minuman[i])"
      ],
      "execution_count": null,
      "outputs": [
        {
          "output_type": "stream",
          "name": "stdout",
          "text": [
            "teh\n",
            "boba\n",
            "kopi\n",
            "susu\n"
          ]
        }
      ]
    },
    {
      "cell_type": "markdown",
      "metadata": {
        "id": "YLW4qMb2D32h"
      },
      "source": [
        "### For Loop with Else"
      ]
    },
    {
      "cell_type": "code",
      "metadata": {
        "colab": {
          "base_uri": "https://localhost:8080/"
        },
        "id": "bXXjHZEGEBAq",
        "outputId": "e51c4e3c-eebf-44b0-be11-3ea207344662"
      },
      "source": [
        "# Contoh for Loop menggunakan else\n",
        "for i in range(p):\n",
        "  print(minuman[i])\n",
        "else:\n",
        "  print(\"Elemen sudah habis\")"
      ],
      "execution_count": null,
      "outputs": [
        {
          "output_type": "stream",
          "name": "stdout",
          "text": [
            "teh\n",
            "boba\n",
            "kopi\n",
            "susu\n",
            "Elemen sudah habis\n"
          ]
        }
      ]
    },
    {
      "cell_type": "markdown",
      "metadata": {
        "id": "h9xVdUxUEU8X"
      },
      "source": [
        "#### Latihan 1\n",
        "\n",
        "Diberikan `list_tagihan`. Kamu diminta untuk menghitung jumlah seluruh tagihan. Gunakan looping `for` untuk menyelesaikan tugas ini! Simpan hasilnya pada variabel `total_tagihan`!\n",
        "\n",
        "```\n",
        "list_tagihan = [50000, 75000, -150000, 125000, 300000, -50000, 200000]\n",
        "```"
      ]
    },
    {
      "cell_type": "code",
      "metadata": {
        "colab": {
          "base_uri": "https://localhost:8080/"
        },
        "id": "9ULCUcezFDWm",
        "outputId": "acdf36fb-a677-468d-bd4a-eaf6acd545ff"
      },
      "source": [
        "list_tagihan = [50000, 75000, -150000, 125000, 300000, -50000, 200000]\n",
        "total_tagihan = 0\n",
        "\n",
        "for i in list_tagihan:\n",
        "  total_tagihan = total_tagihan + i\n",
        "\n",
        "print(total_tagihan)"
      ],
      "execution_count": null,
      "outputs": [
        {
          "output_type": "stream",
          "name": "stdout",
          "text": [
            "550000\n"
          ]
        }
      ]
    },
    {
      "cell_type": "markdown",
      "metadata": {
        "id": "6-SVnjyMFIge"
      },
      "source": [
        "## While Loop\n",
        "\n",
        "While Loop pada Python digunakan untuk melakukan iterasi pada blok kode selama nilai dari `test expression` adalah `true`."
      ]
    },
    {
      "cell_type": "markdown",
      "metadata": {
        "id": "5eD16Ea5FdKr"
      },
      "source": [
        "### Syntax of while Loop in Python\n",
        "\n",
        "```\n",
        "while test_expression:\n",
        "    Body of while\n",
        "```"
      ]
    },
    {
      "cell_type": "markdown",
      "metadata": {
        "id": "ML0vtmVNFvFv"
      },
      "source": [
        "### While Loop Flowchart\n",
        "\n",
        "![download (3).jpg](data:image/jpeg;base64,/9j/4AAQSkZJRgABAQAAAQABAAD/2wCEAAoHCBUVFRgVEhQZGBgZGBUcGBgYGBYZHBgYGRgaGRoVGBocJi4lHCErIRYZLDgmKy81NTU1HCU7QDs0Py40NTEBDAwMDw8PGQ8RETEdGB0xMTE0NDExMTExMTExNDExMTExPzExMTExMTExMTExMTExMTExMTExMTExMTExMTExMf/AABEIASIArgMBIgACEQEDEQH/xAAbAAEBAAMBAQEAAAAAAAAAAAAABAEDBQYCB//EAEEQAAIBAgMEBgYJAwMEAwAAAAECAAMRBBIhEzFBUQUiMmFxsgYzUnKBkRQVQlOSk6HB0bHC0yPh8HOCs9IkQ2L/xAAUAQEAAAAAAAAAAAAAAAAAAAAA/8QAFBEBAAAAAAAAAAAAAAAAAAAAAP/aAAwDAQACEQMRAD8A/ZoiICIiAiIgIiICT4hyCgHFrHwysf6gSiS4vtU/f/seBVERAREQEREBERAREQEREBERAREQEREBERASXF9qn7/9jyqS4vtU/f8A7Hga6XSVJnNNais4LAqCCQV3gjulTVABckAczoJ5Kjg8QhxaqtUbRsQ1MqaQS7IMjBr5w1xNWO6GrsldbVHUpg2RTWfM1VGbbBSW0uAmlwLwPa3ieUw2CxH0guzVQmYFBcsuy2QXZPd9+a5Jyk3sbmXYHo6oMHs2eoKrU+s7VGZlqZLXDX6tiBuIgdtmsLyX6fT2QrZ70yoYOASCp3EW14zzuCwmMNVWqZgjk1Kg2hIQor01ogX3MCjEAWupvqbybD9EYmnRCJtATg1VhtGIWujLYIM1lOUtqtr2GsD2NGurFgpuUbK3c1gbfJh85jEYlUCl2C5mVFvxZjZV+JnmsdgMRmY0wwRsSzOFPWdDRRVYWZdA67r8OMtxuCqmhh1uzulbDM7NYMQjgszakXsOZgd+8XnjaWAxmY5GqLUtic9R3LU3LZtjkTMcliVtZRYAjjJ61HEUqVRhtqaZcKoV6xZjV2gDurZmygggHWx5QPdxOJ6PYeom2Lh1Rql6SVHLuq5QGJYk2Ba5C30+M7cBERAREQEREBERASXF9qn7/wDY8qnB9Iq1dTR2OXWoFN1vYkEA791i0DvRMCZgIiICIiAiIgJrqUwRZgCORAI/WbIgYAmYiAiIgIiICIiAmIvJ6tU3yoLt+i97H9oH1VrAW4k7gN58P53TScNm1qangAdFPMHfm7/977qNG1ydWO8nf4DkO7xm+BKKhXR93Bv2bke/d4SkGYK3FjJbFN1yvLUlfDmO7h+kCyJqpuCLg3B3ETbAREQEREBERAREQEREBERATBM+KlQKLk2E0kF+0LL7PFu9uQ7vnygYNQubIbLxf/15+O7xm6lTCiwFv37z3z7Cz6gIiICYmYgTPTIOZN51K8G/g9/zn1RqhuYI3g6EHkR+/GbiJpq0QdRow3Ef0PMd0DfEmp1TfK4s36N3qf23j9ZRAzEwTOb0d0zSr5jSLkLe7NTqIpsxU2Z1AbVTu5QOnEjbHIKq0b9dkd100yoyKxv41Fm8VRvuLE2BuNe6BtiYBmYCJC1aoWYIiELYEtUZTci+gCHnzn1nr/d0/wA1/wDHAsk9atl01JN7Abzbl89843R2IxpJ2lJMt2sS2VrX0sBv+Nr906+FC6kEltzE77jgRw8IGadMk5n1I3AdlfDme/8ApKYiAmIJi8DznpMKgagadepTz1qVNlQqAVYtc6qet390zT6aqGs9KnSZ1pOtN2JOfMaebPuy5dVGpBNyeGvdrUUa2dVbKQwuAbMNzC+4jnNFTo+kz7RqSF7WzlVLWsVtmtfcxHgTA88/TuIZaWRaaOcQtOqjlwUzIz7M3XfoOsNCLW3z1gMi+q6GTJsUyZg2TIuXMLWa1t4sNe6WLA+4mLzMDXUQMLEf85g8DNAqMmjm44N+zcvHd4SufLQMTy2F6CrU8Ns1Idy4Lq7l6eQ1i7ZAwKq2U+za87YLA2pAMo4MxVVPJWCtfwtpzG6bc9f7un+a/wDjgeZw3o5WAAexUUcYmVahU2q10emqnLYAIpG6w0FrT4r+jtdxTDhCqpWUojKmUu4KVQcmXOFFiygEE6T1Oev93T/Nf/HGev8Ad0/zX/xwKKS2AFybAC53nvM2SKlXfNlqIq3UkFXZtxUWN1W3aEtgS4ft1PFfIJSZNh+3U8V8glUDFpoqULm6mzc+fcRxEoiBNTrXNmFm5c+9TxH/AAygGaq1IMNfgRoQeYM1rUINn+DcD3Hkf0MDzPSTL9YjOUy7Khlzs4620qXyBdC3Z390nrekOIVcSbgCjTrtRcpYV8jFc2ugCWsQO1cMNJ7cCS9IYJK1N6VQXR1KsASCVO8AjUfCB5pOma7NUVHR1FbCotQIQoNVrVKZF+tkGU779axPL6XpTE7d6eemMjlcrgKXp7HNtwL3PX5dWykb9Z6wCZtA8UenK4pK2cXV2WqVWnd7Ip/+Nfq1FDNrx4b5sqdJOjsoZKCNiK+esUuBkRCgNzbMxY6n2bb57DKOUWEDxuI6ZxhpbRQqMuEFdkNMks4ZuoATdQyru1IuJ6+i+ZVbdcA/MXmy01VaoXf8ANSTyAgfTOACSbAcSZosX33VeW5m8eKj9fDiWkWOZ+G5eC955nv4cJUBA+VQAWGgG7un3EQERECZ/Wr7j+ZJTJn9avuP5klMCXD9up4r5BKpLh+3U8V8glUBERAT4dbixFxxBn3ECSzJzZfiWX92H6+PChXBAINwdxHGfVpM1Irdk+K7ge8cj+n9YFUTTSqhhp8RuIPIjhNoMDMxeCZKahbRDpxbf4heZ/QQPurW1surcuA7yeEUqNjmJux3nkOSjgJ9UqQUWHieZPMnie+bYGYiICIiAiIgTP61fcfzJKZM/rV9x/MkpgS4ft1PFfIJVJcP26nivkEqgIiICIiAmJmIE9Sjc3Bsw3Hn3MOI/wCC0wmJG5uqRqb7iOaniJTJMWovT0/+z+x4CxffdV5bmbx9kd2/nbUShVA0HDcJ9TMBERAREQEREBERAmf1q+4/mSUyZ/Wr7j+ZJTAlw/bqeK+QSqS4ft1PFfIJVAREQEREBERASXF9qn7/APY8qkuL7VP3/wCx4EWN6aWlUWk1OqzOSEKJcMQucgG/AXv4S/6Qt7FlvutmF73ta3O+kjx+BZ62HqAgCk1RmBvc56bILfE3nLrejrZXZMm0OK24JBGZRUDimzAXGnjrA9C2JQC5ZQL5bkgDNe2W/O/Cb549/RqoQpdkbr4wvTuyIy4hgQbkMQVUW3ahjunqcNSCIqDcqhdSTuFt51MDfERAREQERECZ/Wr7j+ZJTJn9avuP5klMCXD9up4r5BKpLh+3U8V8glUBERAREQEREBJMYetSHOof0p1D+0rkeN7dH/qN/wCGrArtFpmIGLTMRAREQEREBERAmf1q+4/mSUyZ/Wr7j+ZJTAlw/bqeK+QSqS4ft1PFfIJVAREQE01sQqC7Mqi9rsQovyuZuktft0/FvIYHz9Z0Pv6f5ifzH1nQ++p/jT+ZZOHX9IFSo1M03OSpTRmGUgNUAK6XzHtDcIHQ+s6H39P8xP5nC6exuZ6Bo4hAM9ms1M2uCMxvu6pYfHnad9MbTLmmKiFxvQOpYeK3uJCnT9BqpprUQgKGLh0KAl8mQm/avw7xAsHSdD7+n+Yn8x9Z0Pvqf40/mbFrqSwDKSpswBF1NgbNy0IOvAzn470gw9OjUriqjqm/K6HrcFvfQ/7wLPrOh9/T/MT+Zmnj6TEKtVGY7grqSba6AGfeFql0DEAXANgwYfBhofGYxn2PfX94FMREBERAREQJn9avuP5klMmf1q+4/mSUwIqdVVepmYDVN5A+wJu+kp7a/iE+ygO8A/ATOzX2R8hA1/SU9tfxCPpSe2v4hNmzX2R8hGzX2R8hA1/SU9tfxCaKtZS9MKwJu24g/YMr2a+yPkJNWQB6dgBq3AeyYFk8rjvRlnrvVWoi53pOGyE1KezCiyPewvbiDvnqogeYPo4xYA1AEWpiKilVIqZqyupDMTYhdoeFzZeWsn1C1OmxqlXUYZaCrRpHMbN1Xtrc3K9y2vffO4On8OQCH3pnHVa+TNlva2+/DfJ8D08rlkbqvnrqgyvlbZE/ata9he2/fAx0b0W5wjU6xK1KyuarLa6vUGtvd0HwkB9GXenUWo6Bno0aK5EKqFptmDEEkknlwE6GG6eXfUKhRRw75lDdZqxZQqqRm1IFha+s6mCxaVVzobi5U3BBDKbMpB1BBG4wKFE0Yz7Hvr+8pk2M+x76/vApiIgIiICIiBM/rV9x/Mkpkz+tX3H8ySmAiIgIiICSYpgGpkkDrNvNvsmVz4dAd4B8ReB8fSE9pfxCDiF9tfxCZ2K+yPkI2K+yPkIHAHQGHDZtqfXbW2ZALXDbLd2Mwvbvm76poXQ7XsVa1UdZdWqo6EHuAqG3wnZ2K+yPkI2K+yPkIHBrdA0HTI1W42dBASUNtgxZGsRYm51B07p08ClOkgVWTiSQES5PHKthK9ivsj5CNivsj5CBj6QntL+ITRiaykoAyk510BB5yjYr7I+QmVpKNygeAEDZERAREQERECZ/Wr7j+ZJTJn9avuP5klMBERAREQEREBERAREQEREBERAREQEREBERAmf1q+4/mSUyZ/Wr7j+ZJTAREQEREBERAREQEREBERASfFYlKal6jqiLa7MQALm2pO7UiUTieleGephaiUlLOTTKhcoJy1EY2zG1wFO/lA6OExlOquek6upvZlNwbb7ETNPFIxYBhdWCsOTEAhfGxHznmMdQxbLTNIV8wWoKud6SuyErZFCEIHP2X4BTffPrpTo6q92ZKjquJpOiq9m2QpoGy9Yahgd5ve54wPTPiFDqhYBmDFV4kLbMR4XHzm7NOD07hK7VEbDgBlo4oK5tZajogp31va44cpyxhMXs6gprVQFcOCtSorO7rUvXKNmIXNT0BuNd1t8D2d4Bnh623U0wwrim+KYU6Wf/AFdkMMxKM2bi6MwBa+7dunovR2lVSgq1757tYM2ZgpY5FdrnMwWwJud0C5/Wr7j+ZJTOHiOkiMYlHZk3Q9a+mViCW+GQidyAiIgIiICIiAiIgIiICIiAiIgIiICIiBqekDYkAlTcEgaG1rjloTNgmYgTth1LhyvWVSoP/wCSQSP0lERAREQEREDBkL9JIHZOsWUAtlRyACpYXYC1yBoLy4zj4noVXauxYhqyBL2PUGQpuvZt94HUFUcxw04i/OZL2sLjXdfjpPN0uhXFdmCpltV6701Ysamz6rANd1GQ78trAa2lvSnQu2qLUzAWCKQUzMAtQVAabXGRiRYmx0A3WgdbaDXUab9Rp4/KNoOJHPeN08tQ9GSylnYI2ZyFVbZgcQao2pDdcGy6aEXPEy0ejqjMUZQzJQS5QsAlNmYqLtms2b2tLCB12xaBiua7DISo1IDnKpsOF7/KbtoNdRpv1GnjOBS9GwuWzjRMOhYp1zsHDqc19AbWI8NdLFS9GwN7gi6fYHWCVdr/AKmvXYk2zacdNYHf2gte4tzuLfOaFxamoaQN2VVZtNAGJC3PM5TOeehAKNOkrD/TYsuZcym+YWKXGgD6a6WE29HdDpRJIOa9KlTJKi5FPPqSN98+7uEC3F4paaM7nqqpZra6AX3TXiselNczk5bEkgEgAEA3I46/1nGHouuVlNQnMjp2RYHLs0YC+9ad177k6bpsxHo0rZsr5QTVIAUWXaimCBrw2d/+6B3s+/Uab+6asLi1qKrIdHUMt9CVPG0i6P6L2b1HzXLl7aMCAzFrN1iDYk2IA0kNL0bClf8AU0UILhQHuiGmAj36qkG5Wx1vzgd/aC17i3O43jfNgM8jU9GWGyCbNrVVLXpAIqph6tIMUzdZiXW5B5cp6To3C7KklIEsEREDHecqhbn5QK4iICIiAiIgIiICIiAiIgIiICIiAiIgIiICIiAiIgf/2Q==)"
      ]
    },
    {
      "cell_type": "markdown",
      "metadata": {
        "id": "3UrJYrz6F1bC"
      },
      "source": [
        "### Example: Python while Loop"
      ]
    },
    {
      "cell_type": "code",
      "metadata": {
        "colab": {
          "base_uri": "https://localhost:8080/"
        },
        "id": "reKrQftlF6iK",
        "outputId": "c515079c-0ca7-4407-b941-4ad25064f54f"
      },
      "source": [
        "# Program untuk menjumlahkan semua bilangan asli hingga suku ke-n\n",
        "# jum = 1+2+3+..+n\n",
        "\n",
        "n = 10\n",
        "jumlah = 0\n",
        "i = 1\n",
        "\n",
        "while i <= n:\n",
        "  jumlah = jumlah + i\n",
        "  i = i + 1\n",
        "\n",
        "print(jumlah)"
      ],
      "execution_count": null,
      "outputs": [
        {
          "output_type": "stream",
          "name": "stdout",
          "text": [
            "55\n"
          ]
        }
      ]
    },
    {
      "cell_type": "markdown",
      "metadata": {
        "id": "AkEF9bMSHGbo"
      },
      "source": [
        "### While Loop with Else\n",
        "\n",
        "Sama dengan `for` loop kita juga dapat mengkombinasikan `while` loop dengan blok `else`.\n",
        "\n",
        "Bagian `else` akan dieksekusi jika nilai pada `test expression` pada `while loop` bernilai `false`. Perhatikan contoh berikut:"
      ]
    },
    {
      "cell_type": "code",
      "metadata": {
        "colab": {
          "base_uri": "https://localhost:8080/"
        },
        "id": "2bUTG_tZHnNN",
        "outputId": "521371da-2381-4b04-be52-9db7ea426e90"
      },
      "source": [
        "jum = 0\n",
        "i = 1\n",
        "while i <= n:\n",
        "  jum = jum + i\n",
        "  i = i + 1\n",
        "else:\n",
        "  print(jum) # dieksekusi diluar looping"
      ],
      "execution_count": null,
      "outputs": [
        {
          "output_type": "stream",
          "name": "stdout",
          "text": [
            "55\n"
          ]
        }
      ]
    },
    {
      "cell_type": "markdown",
      "metadata": {
        "id": "AEJZdpJOH9-P"
      },
      "source": [
        "#### Latihan 2\n",
        "\n",
        "Diberikan list `tagihan`. Hitunglah `total_tagihan` menggunakan `while loop`.\n",
        "\n",
        "```\n",
        "tagihan = [50000, 75000, 125000, 300000, 200000]\n",
        "```"
      ]
    },
    {
      "cell_type": "code",
      "metadata": {
        "colab": {
          "base_uri": "https://localhost:8080/"
        },
        "id": "3oFJ8xQ2IUQg",
        "outputId": "63306f16-c554-4e85-b020-db03edf60e3f"
      },
      "source": [
        "tagihan = [50000, 75000, 125000, 300000, 200000]\n",
        "total_tagihan = 0\n",
        "i = 0\n",
        "\n",
        "while i < len(tagihan):\n",
        "  x = tagihan[i]\n",
        "  total_tagihan = total_tagihan + x\n",
        "  i = i + 1\n",
        "print(total_tagihan)"
      ],
      "execution_count": null,
      "outputs": [
        {
          "output_type": "stream",
          "name": "stdout",
          "text": [
            "750000\n"
          ]
        }
      ]
    }
  ]
}