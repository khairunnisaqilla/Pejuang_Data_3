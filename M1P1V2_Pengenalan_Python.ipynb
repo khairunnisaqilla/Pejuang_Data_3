{
  "nbformat": 4,
  "nbformat_minor": 0,
  "metadata": {
    "colab": {
      "name": "M1P1V2_Pengenalan_Python.ipynb",
      "provenance": [],
      "collapsed_sections": [],
      "authorship_tag": "ABX9TyNCtr0s+QgkCm5oETonD3SN",
      "include_colab_link": true
    },
    "kernelspec": {
      "name": "python3",
      "display_name": "Python 3"
    },
    "language_info": {
      "name": "python"
    }
  },
  "cells": [
    {
      "cell_type": "markdown",
      "metadata": {
        "id": "view-in-github",
        "colab_type": "text"
      },
      "source": [
        "<a href=\"https://colab.research.google.com/github/khairunnisaqilla/Pejuang_Data_3/blob/main/M1P1V2_Pengenalan_Python.ipynb\" target=\"_parent\"><img src=\"https://colab.research.google.com/assets/colab-badge.svg\" alt=\"Open In Colab\"/></a>"
      ]
    },
    {
      "cell_type": "markdown",
      "metadata": {
        "id": "pW_54QT8m8-W"
      },
      "source": [
        "# Pengenalan Python"
      ]
    },
    {
      "cell_type": "markdown",
      "metadata": {
        "id": "O0liTajInFmC"
      },
      "source": [
        "Python adalah Bahasa pemrograman tingkat tinggi dengan dynamic semantics, bersifat object oriented, dan interpretatif. Bahasa pemrograman ini fokus dikembangkan pada keterbacaan bahasa pemrograman.\n",
        "  1. **Bahasa Pemrograman Tingkat Tinggi (High Level Programming)** Artinya sintaks kode lebih mudah ditafsirkan oleh manusia.\n",
        "  2. **Interpretatif** ini artinya bahasa ini memerlukan interpreter atau penerjemah. Ini memungkinkan bagi kita untuk menggunakan bahasa yang lebih mudah kita pahami.\n",
        "  3. **Object Oriented** ini berarti bahwa bahasa pemrograman ini berorientasi kepada objek. Hal ini membuat Python lebih mudah untuk dikembangkan.\n",
        "  4. **Dynamic Semantic** Python secara otomatis akan menyesuaikan tipe dari suatu variable berdasarkan inputnya."
      ]
    },
    {
      "cell_type": "markdown",
      "metadata": {
        "id": "XNG9OJVmpGjm"
      },
      "source": [
        "# Mengapa Python?"
      ]
    },
    {
      "cell_type": "markdown",
      "metadata": {
        "id": "Rtvl-avOpZh0"
      },
      "source": [
        "  1. Mudah dipahami\n",
        "  2. Gratis & Open source\n",
        "  3. Dinamis\n",
        "  4. Memiliki Library Terlengkap untuk Data Sains"
      ]
    },
    {
      "cell_type": "markdown",
      "metadata": {
        "id": "VGnMydlJpxY6"
      },
      "source": [
        "# Struktur Program Pada Python"
      ]
    },
    {
      "cell_type": "markdown",
      "metadata": {
        "id": "Tvw2xN1VrKud"
      },
      "source": [
        "Python pada umumnya terdiri dari:\n",
        "1. **Statments**"
      ]
    },
    {
      "cell_type": "code",
      "metadata": {
        "colab": {
          "base_uri": "https://localhost:8080/"
        },
        "id": "b7Nm3GD3rYwD",
        "outputId": "b1af99b5-d4cb-4678-903f-d3c61e08d430"
      },
      "source": [
        "print(\"belajar Python menyenangkan\")\n",
        "print(\"halo dunia\")"
      ],
      "execution_count": null,
      "outputs": [
        {
          "output_type": "stream",
          "name": "stdout",
          "text": [
            "belajar Python menyenangkan\n",
            "halo dunia\n"
          ]
        }
      ]
    },
    {
      "cell_type": "markdown",
      "metadata": {
        "id": "7_nFTVXRsRDA"
      },
      "source": [
        "2. **Variables**"
      ]
    },
    {
      "cell_type": "code",
      "metadata": {
        "id": "VU5JF7uAsWcE"
      },
      "source": [
        "bilangan1 = 5\n",
        "bilangan2 = 10\n",
        "kalimat = \"Pejuang Data 3\""
      ],
      "execution_count": null,
      "outputs": []
    },
    {
      "cell_type": "markdown",
      "metadata": {
        "id": "KPy_NXh_soEb"
      },
      "source": [
        "3. **Literals**: Simbol-simbol yang dapat kita gunakan untuk mengisi suatu variabel."
      ]
    },
    {
      "cell_type": "markdown",
      "metadata": {
        "id": "dGGXrgCRs18V"
      },
      "source": [
        "4. **Operators**: Simbol-simbol yang dapat digunakan untuk mengubah nilai dari suatu variabel dengna melibatkan satu atau lebih variabel dan literal."
      ]
    },
    {
      "cell_type": "code",
      "metadata": {
        "colab": {
          "base_uri": "https://localhost:8080/"
        },
        "id": "cH2ypO2qtLKO",
        "outputId": "e4dd0dce-07c3-491e-d1be-8c96d0297c03"
      },
      "source": [
        "bilangan1 + bilangan2"
      ],
      "execution_count": null,
      "outputs": [
        {
          "output_type": "execute_result",
          "data": {
            "text/plain": [
              "15"
            ]
          },
          "metadata": {},
          "execution_count": 3
        }
      ]
    },
    {
      "cell_type": "markdown",
      "metadata": {
        "id": "NBoRc5u7tTo4"
      },
      "source": [
        "5. **Reserved Words**: Kumpulan kata-kata yang memiliki makna khusus dalam bahasa pemrograman Python. Kata `False`, `return`, dan `for` merupakan contoh dari reserved words."
      ]
    },
    {
      "cell_type": "markdown",
      "metadata": {
        "id": "sqsoB9yLugk2"
      },
      "source": [
        "6. **Whitespace**: Pada bahasa Python, spasi dan tab memiliki makna khusus untuk menandai serangkaian blok dalam kode python."
      ]
    },
    {
      "cell_type": "markdown",
      "metadata": {
        "id": "WyrYAQiRu_vm"
      },
      "source": [
        "7. **Comments**: Comments merupakan sekumpulan teks yang dituliskan di dalam sebuah program yang tidak akan mempengaruhi hasil dari sebuah program."
      ]
    },
    {
      "cell_type": "markdown",
      "metadata": {
        "id": "hxOgeSTbvTn8"
      },
      "source": [
        "Terdapat dua jenis comments di dalam Python, yaitu:"
      ]
    },
    {
      "cell_type": "markdown",
      "metadata": {
        "id": "bFRuAz1uv7iB"
      },
      "source": [
        "a. **single line comment** (comments dalam satu baris) seperti pada contoh berikut:"
      ]
    },
    {
      "cell_type": "code",
      "metadata": {
        "colab": {
          "base_uri": "https://localhost:8080/"
        },
        "id": "C30q9h9TvsOI",
        "outputId": "923d48df-c7aa-4335-ed26-fc3b1fe94942"
      },
      "source": [
        "#Ini adalah Comment\n",
        "print(\"belajar Python\")"
      ],
      "execution_count": null,
      "outputs": [
        {
          "output_type": "stream",
          "name": "stdout",
          "text": [
            "belajar Python\n"
          ]
        }
      ]
    },
    {
      "cell_type": "markdown",
      "metadata": {
        "id": "f260Z0ojwMmo"
      },
      "source": [
        "b. **multi line comment** (comments dalam beberapa baris) seperti pada contoh berikut:"
      ]
    },
    {
      "cell_type": "code",
      "metadata": {
        "colab": {
          "base_uri": "https://localhost:8080/"
        },
        "id": "kXt8hjSkwWB9",
        "outputId": "f0364130-d679-4887-b3b0-e9e0ac2010dd"
      },
      "source": [
        "'''\n",
        "Ini adalah komentar panjang\n",
        "Bisa digunakan untuk memberikan penjelasan\n",
        "panjang pada Sell Kode Python,\n",
        "Misal dokumentasi program, spesifikasi\n",
        "inout ouput atau yang lainnya\n",
        "'''\n",
        "\n",
        "print(\"Belajar Python menyenangkan\")"
      ],
      "execution_count": null,
      "outputs": [
        {
          "output_type": "stream",
          "name": "stdout",
          "text": [
            "Belajar Python menyenangkan\n"
          ]
        }
      ]
    }
  ]
}