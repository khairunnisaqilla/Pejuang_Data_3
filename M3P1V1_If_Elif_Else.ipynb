{
  "nbformat": 4,
  "nbformat_minor": 0,
  "metadata": {
    "colab": {
      "name": " M3P1V1_If_Elif_Else.ipynb",
      "provenance": [],
      "collapsed_sections": [],
      "authorship_tag": "ABX9TyNkgt6oDrP+vXtb2y2yGEpD",
      "include_colab_link": true
    },
    "kernelspec": {
      "name": "python3",
      "display_name": "Python 3"
    },
    "language_info": {
      "name": "python"
    }
  },
  "cells": [
    {
      "cell_type": "markdown",
      "metadata": {
        "id": "view-in-github",
        "colab_type": "text"
      },
      "source": [
        "<a href=\"https://colab.research.google.com/github/khairunnisaqilla/Pejuang_Data_3/blob/main/M3P1V1_If_Elif_Else.ipynb\" target=\"_parent\"><img src=\"https://colab.research.google.com/assets/colab-badge.svg\" alt=\"Open In Colab\"/></a>"
      ]
    },
    {
      "cell_type": "markdown",
      "metadata": {
        "id": "diwyMZVlBQO5"
      },
      "source": [
        "# Percabangan/Struktur Pemilihan"
      ]
    },
    {
      "cell_type": "markdown",
      "metadata": {
        "id": "C0-MEJVPEqTG"
      },
      "source": [
        "Pada bagian ini, kamu akan membuat keputusan pada bahasa pemrograman Python menggunakan struktur percabangan atau juga sering disebut IF ELSE Statement. Pengambilan keputusan dibutuhkan ketika kamu akan mengeksekusi suatu kode jika sebuah kondisi tertentu dipenuhi.\n",
        "\n",
        "Statement ```if..elif..else``` digunakan pada bahasa Python untuk pengambilan keputusan."
      ]
    },
    {
      "cell_type": "markdown",
      "metadata": {
        "id": "jkH7UKEpFgFQ"
      },
      "source": [
        "## IF Statements"
      ]
    },
    {
      "cell_type": "markdown",
      "metadata": {
        "id": "xmEWSwLkFoHG"
      },
      "source": [
        "**Python IF Statement Syntax**\n",
        "\n",
        "```\n",
        "if test expression:\n",
        "   statement(s)\n",
        "```\n",
        "\n"
      ]
    },
    {
      "cell_type": "markdown",
      "metadata": {
        "id": "enr9iHmBGWGj"
      },
      "source": [
        "**Python IF Statement Flowchart**\n",
        "\n",
        "![download.jpg](data:image/jpeg;base64,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)"
      ]
    },
    {
      "cell_type": "markdown",
      "metadata": {
        "id": "YZBpo9hgGtEV"
      },
      "source": [
        "**Example: Python IF Statement**"
      ]
    },
    {
      "cell_type": "code",
      "metadata": {
        "colab": {
          "base_uri": "https://localhost:8080/"
        },
        "id": "Eg5DlucrHnbo",
        "outputId": "bc97171b-c8c8-4e4d-f9b5-1b0382378853"
      },
      "source": [
        "# Jika angka adalah bilangan positif maka print \"adalah bilangan positif\"\n",
        "\n",
        "angka = 3\n",
        "if angka > 0:\n",
        "  print(angka, \"adalah bilangan positif\")\n",
        "print(\"Pernyataan ini selalu ditampilkan.\")\n",
        "\n",
        "angka = -1\n",
        "if angka > 0:\n",
        "  print(angka, \"adalah bilangan postitif\")\n",
        "print(\"Pernyataan ini selalu ditampilkan.\")"
      ],
      "execution_count": null,
      "outputs": [
        {
          "output_type": "stream",
          "name": "stdout",
          "text": [
            "3 adalah bilangan positif\n",
            "Pernyataan ini selalu ditampilkan.\n",
            "Pernyataan ini selalu ditampilkan.\n"
          ]
        }
      ]
    },
    {
      "cell_type": "markdown",
      "metadata": {
        "id": "v0yjJx9GJjut"
      },
      "source": [
        "## IF ELSE Statements"
      ]
    },
    {
      "cell_type": "markdown",
      "metadata": {
        "id": "Xi8rfyp4JoUC"
      },
      "source": [
        "**Python IF ELSE Statement Syntax**\n",
        "\n",
        "```\n",
        "if test expression:\n",
        "    Body of if\n",
        "else :\n",
        "    Body of else\n",
        "```\n",
        "\n"
      ]
    },
    {
      "cell_type": "markdown",
      "metadata": {
        "id": "R9Yr2h5iKL8Q"
      },
      "source": [
        "**Python IF ELSE Statement Flowchart**\n",
        "\n",
        "![download (1).jpg](data:image/jpeg;base64,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)"
      ]
    },
    {
      "cell_type": "markdown",
      "metadata": {
        "id": "EnUz5zC5Kef2"
      },
      "source": [
        "**Example: Python IF ELSE Statement**"
      ]
    },
    {
      "cell_type": "code",
      "metadata": {
        "colab": {
          "base_uri": "https://localhost:8080/"
        },
        "id": "bRTPNJetLF1H",
        "outputId": "eeea026b-e51e-4cac-e1ae-94d7462fe674"
      },
      "source": [
        "# Program disusun untuk mengecek apakah angka tersebut kurang dari 0 atau tidak\n",
        "# dan menampilkan tulisan yang sesuai\n",
        "\n",
        "angka = 3\n",
        "\n",
        "if angka > 0:\n",
        "  print(\"Bilangan lebih dari atau samadengan 0\")\n",
        "else:\n",
        "  print(\"Bilangan kurang dari 0\")"
      ],
      "execution_count": null,
      "outputs": [
        {
          "output_type": "stream",
          "name": "stdout",
          "text": [
            "Bilangan lebih dari atau samadengan 0\n"
          ]
        }
      ]
    },
    {
      "cell_type": "code",
      "metadata": {
        "colab": {
          "base_uri": "https://localhost:8080/"
        },
        "id": "VMJDsgP5MFLX",
        "outputId": "a83904e6-c054-4255-fb0c-8ae08350ba3b"
      },
      "source": [
        "# Program disusun untuk mengecek perbandingan dua buah angka\n",
        "# dan menampilkan tulisan yang sesuai\n",
        "\n",
        "# membaca dua angka\n",
        "bil1 = int(input(\"Masukkan bilangan pertama: \"))\n",
        "bil2 = int(input(\"Masukkan bilangan kedua: \"))\n",
        "\n",
        "# memilih bilangan yang lebih besar\n",
        "if bil1 > bil2:\n",
        "  bil_lebih_besar = bil1\n",
        "else:\n",
        "  bil_lebih_besar = bil2\n",
        "\n",
        "# menampilkan hasil\n",
        "print(\"Bilangan yang lebih besar adalah:\", bil_lebih_besar)"
      ],
      "execution_count": null,
      "outputs": [
        {
          "output_type": "stream",
          "name": "stdout",
          "text": [
            "Masukkan bilangan pertama: 3\n",
            "Masukkan bilangan kedua: 5\n",
            "Bilangan yang lebih besar adalah: 5\n"
          ]
        }
      ]
    },
    {
      "cell_type": "markdown",
      "metadata": {
        "id": "R65Szl0zNTYo"
      },
      "source": [
        "## IF ELIF ELSE Statements"
      ]
    },
    {
      "cell_type": "markdown",
      "metadata": {
        "id": "fTSyJx3hNafq"
      },
      "source": [
        "**Python IF ELIF ELSE Statement Syntax**\n",
        "\n",
        "```\n",
        "if test expression:\n",
        "    Body of if\n",
        "elif test expression:\n",
        "    Body of elif\n",
        "else:\n",
        "    Body of else\n",
        "```\n",
        "\n"
      ]
    },
    {
      "cell_type": "markdown",
      "metadata": {
        "id": "CNbboWtsN88z"
      },
      "source": [
        "**Python IF ELIF ELSE Statement Flowchart**\n",
        "\n",
        "![download (2).jpg](data:image/jpeg;base64,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)"
      ]
    },
    {
      "cell_type": "markdown",
      "metadata": {
        "id": "9lN4yAIyOW8N"
      },
      "source": [
        "**Example: Python IF ELIF ELSE Statement**"
      ]
    },
    {
      "cell_type": "code",
      "metadata": {
        "colab": {
          "base_uri": "https://localhost:8080/"
        },
        "id": "2yA4chE-Oehy",
        "outputId": "796e67d4-b5d3-45f3-cb06-ff13ae5e4709"
      },
      "source": [
        "# Program disusun untuk mengecek apakah angka merupakan bilangan positif, negatif atau nol\n",
        "# dan menampilkan tulisan yang sesuai\n",
        "\n",
        "angka = 3.4\n",
        "\n",
        "if angka > 0:\n",
        "  print(\"Bilangan Positif\")\n",
        "elif angka == 0:\n",
        "  print(\"Nol\")\n",
        "else:\n",
        "  print(\"Bilangan Negatif\")"
      ],
      "execution_count": null,
      "outputs": [
        {
          "output_type": "stream",
          "name": "stdout",
          "text": [
            "Bilangan Positif\n"
          ]
        }
      ]
    },
    {
      "cell_type": "code",
      "metadata": {
        "colab": {
          "base_uri": "https://localhost:8080/"
        },
        "id": "HmgafuXtPNhi",
        "outputId": "cd7d8ee0-1db6-4e7a-f79e-630271378d46"
      },
      "source": [
        "# Statement IF\n",
        "x = 4\n",
        "if x % 2 == 0:  # jika x dibagi 2 sisanya samadengan 0\n",
        "  print(\"x habis dibagi dua\")\n",
        "\n",
        "# Statement if ...  elif ...  else\n",
        "x = 7\n",
        "if x % 2 == 0:\n",
        "  print(\"x habis dibagi dua\")\n",
        "elif x % 3 == 0:\n",
        "  print(\"x habis dibagi tiga\")\n",
        "elif x % 5 == 0:\n",
        "  print(\"x habis dibagi lima\")\n",
        "else:\n",
        "  print(\"x tidak habis dibagi dua, tiga ataupun lima\")"
      ],
      "execution_count": null,
      "outputs": [
        {
          "output_type": "stream",
          "name": "stdout",
          "text": [
            "x habis dibagi dua\n",
            "x tidak habis dibagi dua, tiga ataupun lima\n"
          ]
        }
      ]
    },
    {
      "cell_type": "markdown",
      "metadata": {
        "id": "BJB7Tu_5QOpE"
      },
      "source": [
        "## Python Nested IF Statements"
      ]
    },
    {
      "cell_type": "markdown",
      "metadata": {
        "id": "SFCVKqELQXAr"
      },
      "source": [
        "**Example: Python NESTED IF Statement**"
      ]
    },
    {
      "cell_type": "code",
      "metadata": {
        "colab": {
          "base_uri": "https://localhost:8080/"
        },
        "id": "xF0OWDf_QfFe",
        "outputId": "fdfec0f8-3a7f-43e3-a4be-4b461465065b"
      },
      "source": [
        "# Program disusun untuk mengecek apakah angka merupakan bilangan positif, negatif atau nol\n",
        "# dan menampilkan tulisan yang sesuai\n",
        "\n",
        "angka = float(input(\"Masukkan angka: \"))\n",
        "if angka >= 0:\n",
        "  if angka == 0:\n",
        "    print(\"Nol\")\n",
        "  else:\n",
        "    print(\"Bilangan Positif\")\n",
        "else:\n",
        "  print(\"Bilangan Negatif\")"
      ],
      "execution_count": null,
      "outputs": [
        {
          "output_type": "stream",
          "name": "stdout",
          "text": [
            "Masukkan angka: 4\n",
            "Bilangan Positif\n"
          ]
        }
      ]
    },
    {
      "cell_type": "markdown",
      "metadata": {
        "id": "CemVkE7CRLLa"
      },
      "source": [
        "#### Latihan"
      ]
    },
    {
      "cell_type": "markdown",
      "metadata": {
        "id": "JhsZWjEPROn2"
      },
      "source": [
        "Buatlah sebuah fungsi \"Mahal_Diskon\" dengan ketentuan:\n",
        "\n",
        "*   Input berupa data harga produk dengan tipe data numerik tunggal\n",
        "*   Kategori input adalah \"Murah\" dan \"Mahal\", kemudian diskon ada kategori \"10%\", \"20%\", dan \"40%\"\n",
        "*   Output pertama sebuah teks/string yang menyatakan \"Mahal\" atau \"Murah\" dan keterangan \"Kamu Dapat Diskon ...\"\n",
        "*   Output kedua adalah harga yang perlu dibayarkan\n",
        "\n",
        "\n",
        "\n"
      ]
    },
    {
      "cell_type": "code",
      "metadata": {
        "colab": {
          "base_uri": "https://localhost:8080/"
        },
        "id": "jMBUAtP6SPqB",
        "outputId": "54e6a5d9-8c27-4a27-ab2d-7abcb93603ec"
      },
      "source": [
        "harga = int(input(\"Masukkan harga produk: \"))\n",
        "if harga <= 500000: # Harga dikategorikan murah jika kurang dari dan samadengan 500000\n",
        "  if harga < 500000:\n",
        "    diskon = harga - harga*(10/100)\n",
        "    print(harga, \"termasuk kategori harga murah, kamu dapat diskon 10%\")\n",
        "    print(\"Harga yang perlu dibayarkan sebesar\",diskon)\n",
        "  else:\n",
        "    diskon = harga - harga*(20/100)\n",
        "    print(harga, \"termasuk kategori harga murah, kamu dapat diskon 20%\")\n",
        "    print(\"Harga yang perlu dibayarkan sebesar\",diskon)\n",
        "else: # Harga dikategorikan murah jika lebih dari 500000\n",
        "  diskon = harga - harga*(40/100)\n",
        "  print(harga, \"termasuk kategori harga mahal, kamu dapat diskon 40%\")\n",
        "  print(\"Harga yang perlu dibayarkan sebesar\",diskon)"
      ],
      "execution_count": 1,
      "outputs": [
        {
          "output_type": "stream",
          "name": "stdout",
          "text": [
            "Masukkan harga produk: 560000\n",
            "560000 termasuk kategori harga mahal, kamu dapat diskon 40%\n",
            "Harga yang perlu dibayarkan sebesar 336000.0\n"
          ]
        }
      ]
    }
  ]
}