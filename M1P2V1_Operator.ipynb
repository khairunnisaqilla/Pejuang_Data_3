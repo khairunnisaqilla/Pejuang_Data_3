{
  "nbformat": 4,
  "nbformat_minor": 0,
  "metadata": {
    "colab": {
      "name": "M1P2V1_Operator.ipynb",
      "provenance": [],
      "collapsed_sections": [],
      "authorship_tag": "ABX9TyOw2/gaOhjBeQ20lzqXqKqQ",
      "include_colab_link": true
    },
    "kernelspec": {
      "name": "python3",
      "display_name": "Python 3"
    },
    "language_info": {
      "name": "python"
    }
  },
  "cells": [
    {
      "cell_type": "markdown",
      "metadata": {
        "id": "view-in-github",
        "colab_type": "text"
      },
      "source": [
        "<a href=\"https://colab.research.google.com/github/khairunnisaqilla/Pejuang_Data_3/blob/main/M1P2V1_Operator.ipynb\" target=\"_parent\"><img src=\"https://colab.research.google.com/assets/colab-badge.svg\" alt=\"Open In Colab\"/></a>"
      ]
    },
    {
      "cell_type": "markdown",
      "metadata": {
        "id": "jWhDNBXOleCW"
      },
      "source": [
        "# Operator"
      ]
    },
    {
      "cell_type": "markdown",
      "metadata": {
        "id": "4nILm84cljHQ"
      },
      "source": [
        "Operator = Simbol-simbol yang dapat digunakan untuk mengubah nilai dari satu variabel dengan melibatkan satu atau lebih variabel dan literal.\n",
        "\n",
        "Tipe-tipe operator:\n",
        "1. Operator Aritmatika\n",
        "2. Operator Assignment\n",
        "3. Operator Pembanding\n",
        "4. Operator Logika\n",
        "5. Operator Membership"
      ]
    },
    {
      "cell_type": "markdown",
      "metadata": {
        "id": "vXMk_EWdmc1j"
      },
      "source": [
        "## Operator Aritmatika"
      ]
    },
    {
      "cell_type": "markdown",
      "metadata": {
        "id": "xAW9IeIcmrWz"
      },
      "source": [
        "Operator Aritmatika digunakan untuk melakukan operasi matematika yang umum\n",
        "\n",
        "Macam-macam operator matematika:\n",
        "\n",
        "```\n",
        "+ : Penjumlahan\n",
        "- : Pengurangan\n",
        "* : Perkalian\n",
        "/ : Pembagian\n",
        "% : Modulus\n",
        "**: Perpangkatan\n",
        "//: Pembagian dengan hasil pembulatan flooring\n",
        "```\n"
      ]
    },
    {
      "cell_type": "code",
      "metadata": {
        "colab": {
          "base_uri": "https://localhost:8080/"
        },
        "id": "Q106ZsPOpNtl",
        "outputId": "4f4ebd25-5eee-4493-a07a-0883509e64be"
      },
      "source": [
        "# Contoh penggunaan operator aritmatika\n",
        "\n",
        "#Penjumlahan\n",
        "print('Penjumlahan')\n",
        "print(2+2)\n",
        "#Pengurangan\n",
        "print('-'*20)\n",
        "print('Pengurangan')\n",
        "print(2-3)\n",
        "#Perkalian\n",
        "print('-'*20)\n",
        "print('Perkalian')\n",
        "print(2*3)\n",
        "#Pembagian\n",
        "print('-'*20)\n",
        "print('Pembagian')\n",
        "print(2/3)\n",
        "#Modulus\n",
        "print('-'*20)\n",
        "print('Modulus')\n",
        "print(2%3)\n",
        "#Perpangkatan\n",
        "print('-'*20)\n",
        "print('Perpangkatan')\n",
        "print(2**3)\n",
        "#Pembagian Pembulatan Flooring\n",
        "print('-'*20)\n",
        "print('Pembagian Pembulatan Flooring')\n",
        "print(3//2)"
      ],
      "execution_count": 1,
      "outputs": [
        {
          "output_type": "stream",
          "name": "stdout",
          "text": [
            "Penjumlahan\n",
            "4\n",
            "--------------------\n",
            "Pengurangan\n",
            "-1\n",
            "--------------------\n",
            "Perkalian\n",
            "6\n",
            "--------------------\n",
            "Pembagian\n",
            "0.6666666666666666\n",
            "--------------------\n",
            "Modulus\n",
            "2\n",
            "--------------------\n",
            "Perpangkatan\n",
            "8\n",
            "--------------------\n",
            "Pembagian Pembulatan Flooring\n",
            "1\n"
          ]
        }
      ]
    },
    {
      "cell_type": "markdown",
      "metadata": {
        "id": "SnhcJqcgrtyc"
      },
      "source": [
        "#####**Latihan Operator 1**"
      ]
    },
    {
      "cell_type": "code",
      "metadata": {
        "id": "DO6lG2wir1gd",
        "colab": {
          "base_uri": "https://localhost:8080/"
        },
        "outputId": "fecc558c-9d58-480d-e250-7e238a84bc2a"
      },
      "source": [
        "# Buatlah program penerapan operator aritmatika\n",
        "# dengan nilai-nilai yang berbeda dari contoh di atas\n",
        "\n",
        "#Penjumlahan\n",
        "print('Penjumlahan')\n",
        "print(10+43)\n",
        "#Pengurangan\n",
        "print('-'*20)\n",
        "print('Pengurangan')\n",
        "print(11-19)\n",
        "#Perkalian\n",
        "print('-'*20)\n",
        "print('Perkalian')\n",
        "print(3*43)\n",
        "#Pembagian\n",
        "print('-'*20)\n",
        "print('Pembagian')\n",
        "print(50/4)\n",
        "#Modulus\n",
        "print('-'*20)\n",
        "print('Modulus')\n",
        "print(100%6)\n",
        "#Perpangkatan\n",
        "print('-'*20)\n",
        "print('Perpangkatan')\n",
        "print(12**2)\n",
        "#Pembagian Pembulatan Flooring\n",
        "print('-'*20)\n",
        "print('Pembagian Pembulatan Flooring')\n",
        "print(60//7)"
      ],
      "execution_count": null,
      "outputs": [
        {
          "output_type": "stream",
          "name": "stdout",
          "text": [
            "Penjumlahan\n",
            "53\n",
            "--------------------\n",
            "Pengurangan\n",
            "-8\n",
            "--------------------\n",
            "Perkalian\n",
            "129\n",
            "--------------------\n",
            "Pembagian\n",
            "12.5\n",
            "--------------------\n",
            "Modulus\n",
            "4\n",
            "--------------------\n",
            "Perpangkatan\n",
            "144\n",
            "--------------------\n",
            "Pembagian Pembulatan Flooring\n",
            "8\n"
          ]
        }
      ]
    },
    {
      "cell_type": "markdown",
      "metadata": {
        "id": "QrG6ue7dtgZf"
      },
      "source": [
        "## Operator Assignment"
      ]
    },
    {
      "cell_type": "markdown",
      "metadata": {
        "id": "NUYq2Z7CtrDv"
      },
      "source": [
        "Operator `Assignment` digunakan untuk menyimpan nilai menjadi suatu variabel.\n",
        "\n",
        "```\n",
        "= : contohnya x = 5          -> x = 5\n",
        "+= : contohnya x = x + 5     -> x += 5\n",
        "-= : contohnya x = x - 5     -> x -= 5\n",
        "*= : contohnya x = x * 5     -> x *= 5\n",
        "/= : contohnya x = x / 5     -> x /= 5\n",
        "%= : contohnya x = x % 5     -> x %= 5\n",
        "//= : contohnya x = x // 5   -> x //= 5\n",
        "**= : contohnya x = x ** 5   -> x **= 5\n",
        "```"
      ]
    },
    {
      "cell_type": "code",
      "metadata": {
        "colab": {
          "base_uri": "https://localhost:8080/"
        },
        "id": "18hN2GSHxECj",
        "outputId": "4a40f190-0c5b-4389-9eaf-504b686bafcf"
      },
      "source": [
        "# Contoh penggunaan operator assignment\n",
        "\n",
        "#Penjumlahan\n",
        "print('Penjumlahan')\n",
        "x = 5\n",
        "x = x + 5\n",
        "print(x)\n",
        "x = 5\n",
        "x += 3\n",
        "print(x)\n",
        "print('-'*20)\n",
        "\n",
        "#Pengurangan\n",
        "print('Pengurangan')\n",
        "x = 5\n",
        "x = x - 5\n",
        "print(x)\n",
        "x = 5\n",
        "x -= 3\n",
        "print(x)\n",
        "print('-'*20)\n",
        "\n",
        "#Perkalian\n",
        "print('Perkalian')\n",
        "x = 5\n",
        "x = x * 5\n",
        "print(x)\n",
        "x = 5\n",
        "x *= 3\n",
        "print(x)\n",
        "print('-'*20)\n",
        "\n",
        "#Pembagian\n",
        "print('Pembagian')\n",
        "x = 5\n",
        "x = x / 5\n",
        "print(x)\n",
        "x = 5\n",
        "x /= 3\n",
        "print(x)\n",
        "print('-'*20)\n",
        "\n",
        "#Modulus\n",
        "print('Modulus')\n",
        "x = 5\n",
        "x = x % 5\n",
        "print(x)\n",
        "x = 5\n",
        "x %= 3\n",
        "print(x)\n",
        "print('-'*20)\n",
        "\n",
        "#Pembagian flooring\n",
        "print('Pembagian flooring')\n",
        "x = 5\n",
        "x = x // 5\n",
        "print(x)\n",
        "x = 5\n",
        "x //= 3\n",
        "print(x)\n",
        "print('-'*20)"
      ],
      "execution_count": null,
      "outputs": [
        {
          "output_type": "stream",
          "name": "stdout",
          "text": [
            "Penjumlahan\n",
            "10\n",
            "8\n",
            "--------------------\n",
            "Pengurangan\n",
            "0\n",
            "2\n",
            "--------------------\n",
            "Perkalian\n",
            "25\n",
            "15\n",
            "--------------------\n",
            "Pembagian\n",
            "1.0\n",
            "1.6666666666666667\n",
            "--------------------\n",
            "Modulus\n",
            "0\n",
            "2\n",
            "--------------------\n",
            "Pembagian flooring\n",
            "1\n",
            "1\n",
            "--------------------\n"
          ]
        }
      ]
    },
    {
      "cell_type": "markdown",
      "metadata": {
        "id": "Cz-5Pe6n0U6h"
      },
      "source": [
        "#####**Latihan Operator 2**"
      ]
    },
    {
      "cell_type": "code",
      "metadata": {
        "id": "YdOgsk0D1FVS",
        "colab": {
          "base_uri": "https://localhost:8080/"
        },
        "outputId": "7475763f-fce2-4b86-ae53-1de3fe569a48"
      },
      "source": [
        "# Buatlah program penerapan operator assignment \n",
        "# dengan nilai-nilai yang berbeda dari contoh di atas\n",
        "\n",
        "#Penjumlahan\n",
        "print('Penjumlahan')\n",
        "x = 10\n",
        "x = x + 11\n",
        "print(x)\n",
        "x = 10\n",
        "x += 11\n",
        "print(x)\n",
        "print('-'*20)\n",
        "\n",
        "#Pengurangan\n",
        "print('Pengurangan')\n",
        "x = 20\n",
        "x = x - 30\n",
        "print(x)\n",
        "x = 20\n",
        "x -= 30\n",
        "print(x)\n",
        "print('-'*20)\n",
        "\n",
        "#Perkalian\n",
        "print('Perkalian')\n",
        "x = 19\n",
        "x = x * 4\n",
        "print(x)\n",
        "x = 19\n",
        "x *= 4\n",
        "print(x)\n",
        "print('-'*20)\n",
        "\n",
        "#Pembagian\n",
        "print('Pembagian')\n",
        "x = 26\n",
        "x = x / 5\n",
        "print(x)\n",
        "x = 26\n",
        "x /= 5\n",
        "print(x)\n",
        "print('-'*20)\n",
        "\n",
        "#Modulus\n",
        "print('Modulus')\n",
        "x = 70\n",
        "x = x % 4\n",
        "print(x)\n",
        "x = 70\n",
        "x %= 4\n",
        "print(x)\n",
        "print('-'*20)\n",
        "\n",
        "#Pembagian flooring\n",
        "print('Pembagian flooring')\n",
        "x = 44\n",
        "x = x // 5\n",
        "print(x)\n",
        "x = 44\n",
        "x //= 5\n",
        "print(x)\n",
        "print('-'*20)"
      ],
      "execution_count": null,
      "outputs": [
        {
          "output_type": "stream",
          "name": "stdout",
          "text": [
            "Penjumlahan\n",
            "21\n",
            "21\n",
            "--------------------\n",
            "Pengurangan\n",
            "-10\n",
            "-10\n",
            "--------------------\n",
            "Perkalian\n",
            "76\n",
            "76\n",
            "--------------------\n",
            "Pembagian\n",
            "5.2\n",
            "5.2\n",
            "--------------------\n",
            "Modulus\n",
            "2\n",
            "2\n",
            "--------------------\n",
            "Pembagian flooring\n",
            "8\n",
            "8\n",
            "--------------------\n"
          ]
        }
      ]
    },
    {
      "cell_type": "markdown",
      "metadata": {
        "id": "Sa7xTtSU1PdC"
      },
      "source": [
        "## Operator Pembanding"
      ]
    },
    {
      "cell_type": "markdown",
      "metadata": {
        "id": "1U161dqY6Q0q"
      },
      "source": [
        "Operator pembanding digunakan untuk membandingkan 2 nilai atau variabel.\n",
        "\n",
        "Macam-macam operator pembanding:\n",
        "\n",
        "```\n",
        "== -> sama dengan\n",
        "!= -> tidak sama dengan\n",
        ">  -> lebih dari\n",
        "<  -> kurang dari\n",
        ">= -> lebih dari dan sama dengan\n",
        "<= -> kurang dari dan sama dengan\n",
        "```\n",
        "\n"
      ]
    },
    {
      "cell_type": "code",
      "metadata": {
        "id": "6lGz-q9j6Pj-",
        "colab": {
          "base_uri": "https://localhost:8080/"
        },
        "outputId": "0661bd87-85a2-4e78-a2e8-fd3fe5f7fc7a"
      },
      "source": [
        "# Contoh penggunaan operator pembanding\n",
        "\n",
        "print(2==2)\n",
        "print(2!=2)\n",
        "print(2>2)\n",
        "print(2<2)\n",
        "print(2>=2)\n",
        "print(2<=2)"
      ],
      "execution_count": null,
      "outputs": [
        {
          "output_type": "stream",
          "name": "stdout",
          "text": [
            "True\n",
            "False\n",
            "False\n",
            "False\n",
            "True\n",
            "True\n"
          ]
        }
      ]
    },
    {
      "cell_type": "markdown",
      "metadata": {
        "id": "JjkPZueT8Os2"
      },
      "source": [
        "#####**Latihan Operator 3**"
      ]
    },
    {
      "cell_type": "code",
      "metadata": {
        "colab": {
          "base_uri": "https://localhost:8080/"
        },
        "id": "ebhaAbTq8SF1",
        "outputId": "90cdcd2b-2001-4ad9-cfa8-daf9208b1da7"
      },
      "source": [
        "# Buatlah program penerapan operator pembanding\n",
        "# dengan nilai-nilai yang berbeda dari contoh di atas\n",
        "\n",
        "print(5==4)\n",
        "print(3!=3)\n",
        "print(10>5)\n",
        "print(32<23)\n",
        "print(9>=2)\n",
        "print(14<=2)"
      ],
      "execution_count": null,
      "outputs": [
        {
          "output_type": "stream",
          "name": "stdout",
          "text": [
            "False\n",
            "False\n",
            "True\n",
            "False\n",
            "True\n",
            "False\n"
          ]
        }
      ]
    },
    {
      "cell_type": "markdown",
      "metadata": {
        "id": "jrioSAWw8avF"
      },
      "source": [
        "## Operasi Logika"
      ]
    },
    {
      "cell_type": "markdown",
      "metadata": {
        "id": "he9uPqjB8iD3"
      },
      "source": [
        "Operasi logika digunakan untuk mengkombinasikan statment-statment kondisional.\n",
        "\n",
        "Macam-macam operator logika:\n",
        "```\n",
        "and -> kondisi menjadi benar apabila semua statmentnya benar\n",
        "or -> kondisi menjadi benar apabila salh satu statmentnya ada yang benar\n",
        "not -> membalik hasil dari benar ke salah dan salah ke benar\n",
        "```"
      ]
    },
    {
      "cell_type": "code",
      "metadata": {
        "colab": {
          "base_uri": "https://localhost:8080/"
        },
        "id": "MHgFRYsA9OcI",
        "outputId": "8515a578-d0af-4c44-d5fc-c22f9ad6d168"
      },
      "source": [
        "# Contoh penggunaan operator logika\n",
        "\n",
        "print(True and False or False)\n",
        "print(False or False and True)\n",
        "print(not False and True)"
      ],
      "execution_count": null,
      "outputs": [
        {
          "output_type": "stream",
          "name": "stdout",
          "text": [
            "False\n",
            "False\n",
            "True\n"
          ]
        }
      ]
    },
    {
      "cell_type": "markdown",
      "metadata": {
        "id": "ev4F6_rv9pUp"
      },
      "source": [
        "#####**Latihan Operator 4**"
      ]
    },
    {
      "cell_type": "code",
      "metadata": {
        "colab": {
          "base_uri": "https://localhost:8080/"
        },
        "id": "88EcuoQE9r1e",
        "outputId": "9d64685d-0276-4d34-ffc3-cba28c63e10f"
      },
      "source": [
        "# Buatlah program penerapan operator logika\n",
        "# dengan nilai-nilai yang berbeda dari contoh di atas\n",
        "\n",
        "print(True and True)\n",
        "print(False or True)\n",
        "print(not True or False)"
      ],
      "execution_count": null,
      "outputs": [
        {
          "output_type": "stream",
          "name": "stdout",
          "text": [
            "True\n",
            "True\n",
            "False\n"
          ]
        }
      ]
    },
    {
      "cell_type": "markdown",
      "metadata": {
        "id": "St1HTwbK9wO5"
      },
      "source": [
        "## Operator Keanggotaan"
      ]
    },
    {
      "cell_type": "markdown",
      "metadata": {
        "id": "0dkIRxZ992uD"
      },
      "source": [
        "Operator keanggotaan digunakan untuk menguji apakah urutan disajikan dalam suatu objek.\n",
        "\n",
        "Macam-macam operator keanggotaan:\n",
        "```\n",
        "in     -> return True ketika nilai tertentu dalam sebuah urutan ada\n",
        "not in -> return True ketika nilai tertentu dalam sebuah urutan tidak ada\n",
        "```"
      ]
    },
    {
      "cell_type": "code",
      "metadata": {
        "colab": {
          "base_uri": "https://localhost:8080/"
        },
        "id": "wVg2zbW2-b4o",
        "outputId": "a344b801-33cf-44eb-c6f2-baf4f8995097"
      },
      "source": [
        "# Contoh penggunaan operator keanggotaan\n",
        "a=(1,2,3,4,5,6)\n",
        "b=2\n",
        "\n",
        "print(b in a)\n",
        "\n",
        "print('-'*20)\n",
        "a=(1,2,3,4,5,6)\n",
        "b=7\n",
        "print(b not in a)"
      ],
      "execution_count": null,
      "outputs": [
        {
          "output_type": "stream",
          "name": "stdout",
          "text": [
            "True\n",
            "--------------------\n",
            "True\n"
          ]
        }
      ]
    },
    {
      "cell_type": "markdown",
      "metadata": {
        "id": "oRyNzWuV-7L0"
      },
      "source": [
        "#####**Latihan Operator 5**"
      ]
    },
    {
      "cell_type": "code",
      "metadata": {
        "colab": {
          "base_uri": "https://localhost:8080/"
        },
        "id": "8pbPFZHq-6MW",
        "outputId": "d6c5d423-8222-4c16-c2b2-cea55a3bd7e0"
      },
      "source": [
        "# Buatlah program penerapan operator keanggotaan/membership\n",
        "# dengan nilai-nilai yang berbeda dari contoh di atas\n",
        "\n",
        "a=(12,45,13,43,23,54)\n",
        "b=32\n",
        "\n",
        "print(b not in a)\n",
        "\n",
        "print('-'*20)\n",
        "a=(22,34,45,65,78,43)\n",
        "b=45\n",
        "print(b not in a)"
      ],
      "execution_count": null,
      "outputs": [
        {
          "output_type": "stream",
          "name": "stdout",
          "text": [
            "True\n",
            "--------------------\n",
            "False\n"
          ]
        }
      ]
    }
  ]
}