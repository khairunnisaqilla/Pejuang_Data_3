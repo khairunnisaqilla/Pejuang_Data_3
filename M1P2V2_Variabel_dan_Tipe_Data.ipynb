{
  "nbformat": 4,
  "nbformat_minor": 0,
  "metadata": {
    "colab": {
      "name": "M1P2V2_Variabel_dan_Tipe_Data.ipynb",
      "provenance": [],
      "collapsed_sections": [],
      "authorship_tag": "ABX9TyMdwVGNPySPzEEfkCyTHfZI",
      "include_colab_link": true
    },
    "kernelspec": {
      "name": "python3",
      "display_name": "Python 3"
    },
    "language_info": {
      "name": "python"
    }
  },
  "cells": [
    {
      "cell_type": "markdown",
      "metadata": {
        "id": "view-in-github",
        "colab_type": "text"
      },
      "source": [
        "<a href=\"https://colab.research.google.com/github/khairunnisaqilla/Pejuang_Data_3/blob/main/M1P2V2_Variabel_dan_Tipe_Data.ipynb\" target=\"_parent\"><img src=\"https://colab.research.google.com/assets/colab-badge.svg\" alt=\"Open In Colab\"/></a>"
      ]
    },
    {
      "cell_type": "markdown",
      "metadata": {
        "id": "LoX7Zj0NHWyD"
      },
      "source": [
        "# Variabel & Tipe Data"
      ]
    },
    {
      "cell_type": "markdown",
      "metadata": {
        "id": "ahduOOLAHajy"
      },
      "source": [
        "## Variabel"
      ]
    },
    {
      "cell_type": "markdown",
      "metadata": {
        "id": "hVtDtOTUHdGZ"
      },
      "source": [
        "Variables : Lokasi penyimpanan yang dapat digunakan untuk menampung sebuah data atau informasi.\n",
        "\n",
        "Syarat-syarat penamaan variabel\n",
        "1. Karakter-karakter yang digunakan untuk penamaan variable adalal alphabet, angka dan underscore.\n",
        "2. Karakter pertama variable harus berupa huruf atau garis bawah/underscore, dan tidak bisa berupa angka.\n",
        "3. Nama sebuah variabel tidak bisa menggunakan keyword atau reserved words dari bahasa python seperti for, if dan lainnya.\n",
        "4. Karakter pada nama variabel bersifat sensitif (case-sensitif)."
      ]
    },
    {
      "cell_type": "code",
      "metadata": {
        "id": "I7UBvZHGIiXp"
      },
      "source": [
        "# Membuat variabel\n",
        "kalimat = 'ini adalah variabel'\n",
        "bilangan1 = 4\n",
        "bilangan2 = 2.5\n",
        "bilangan3 = True\n",
        "bilangan4 = 1j + 4"
      ],
      "execution_count": null,
      "outputs": []
    },
    {
      "cell_type": "code",
      "metadata": {
        "colab": {
          "base_uri": "https://localhost:8080/"
        },
        "id": "j0cOB4ikI7zm",
        "outputId": "33afa7cd-ed8b-4b89-c0e7-8565463e59c3"
      },
      "source": [
        "# Menampilkan variabel\n",
        "print(kalimat)\n",
        "print(bilangan1)\n",
        "print(bilangan2)"
      ],
      "execution_count": null,
      "outputs": [
        {
          "output_type": "stream",
          "name": "stdout",
          "text": [
            "ini adalah variabel\n",
            "4\n",
            "2.5\n"
          ]
        }
      ]
    },
    {
      "cell_type": "markdown",
      "metadata": {
        "id": "Gig9tGjDJGQb"
      },
      "source": [
        "#### **Latihan 1**"
      ]
    },
    {
      "cell_type": "code",
      "metadata": {
        "id": "CWPk7uAUJO8g"
      },
      "source": [
        "# Buatlah 5 variabel kalian sendiri dengan 5 macam tipe data\n",
        "# lalu tampilkan variabel menggunakan fungsi print\n",
        "\n",
        "a = False\n",
        "b = 19\n",
        "c = 23.3\n",
        "d = 2 + 3j\n",
        "e = \"saya mahasiswi\""
      ],
      "execution_count": null,
      "outputs": []
    },
    {
      "cell_type": "markdown",
      "metadata": {
        "id": "cGGZOqKwJdNu"
      },
      "source": [
        "## Tipe Data"
      ]
    },
    {
      "cell_type": "markdown",
      "metadata": {
        "id": "wweOhJh2JgRu"
      },
      "source": [
        "5 tipe data yaitu\n",
        "1. Integer atau bilangan bulat\n",
        "2. Float atau bilangan desimal\n",
        "3. String atau kalimat\n",
        "4. Boolean yang terdiri dari True dan False\n",
        "5. Complex yang merupakan bilangan kompleks"
      ]
    },
    {
      "cell_type": "code",
      "metadata": {
        "colab": {
          "base_uri": "https://localhost:8080/"
        },
        "id": "sXWj3IgMJ4HD",
        "outputId": "5e09c01d-e0e1-4839-8dba-25bb66387a20"
      },
      "source": [
        "# Menampilkan tipe data\n",
        "print(type(kalimat))\n",
        "print(type(bilangan1))\n",
        "print(type(bilangan2))\n",
        "print(type(bilangan3))\n",
        "print(type(bilangan4))"
      ],
      "execution_count": null,
      "outputs": [
        {
          "output_type": "stream",
          "name": "stdout",
          "text": [
            "<class 'str'>\n",
            "<class 'int'>\n",
            "<class 'float'>\n",
            "<class 'bool'>\n",
            "<class 'complex'>\n"
          ]
        }
      ]
    },
    {
      "cell_type": "markdown",
      "metadata": {
        "id": "0vgoX-XQKRbm"
      },
      "source": [
        "#### **Latihan 2**"
      ]
    },
    {
      "cell_type": "code",
      "metadata": {
        "colab": {
          "base_uri": "https://localhost:8080/"
        },
        "id": "nTLvqRpEKWRq",
        "outputId": "ebf6d7f7-1b0a-4caf-cf0c-d28fbd649e00"
      },
      "source": [
        "# Cek tipe data variabel yang telah kalian buat pada latihan 1\n",
        "print(type(a))\n",
        "print(type(b))\n",
        "print(type(c))\n",
        "print(type(d))\n",
        "print(type(e))"
      ],
      "execution_count": null,
      "outputs": [
        {
          "output_type": "stream",
          "name": "stdout",
          "text": [
            "<class 'bool'>\n",
            "<class 'int'>\n",
            "<class 'float'>\n",
            "<class 'complex'>\n",
            "<class 'str'>\n"
          ]
        }
      ]
    },
    {
      "cell_type": "markdown",
      "metadata": {
        "id": "fPCSFF9jKfWQ"
      },
      "source": [
        "## Konversi Tipe Data"
      ]
    },
    {
      "cell_type": "markdown",
      "metadata": {
        "id": "mQstPQ3cKlR8"
      },
      "source": [
        "Syntax konversi tipe data\n",
        "1. Integer = int()\n",
        "2. Float = float()\n",
        "3. String = str()\n",
        "4. Boolean = bool()\n",
        "5. Complex = complex()"
      ]
    },
    {
      "cell_type": "code",
      "metadata": {
        "colab": {
          "base_uri": "https://localhost:8080/"
        },
        "id": "RwPZ6hI8K98o",
        "outputId": "af2bc47d-7add-486a-f7bb-19bc1f01664a"
      },
      "source": [
        "# Konversi tipe data integer\n",
        "print(int(bilangan2))\n",
        "print(int(bilangan3))"
      ],
      "execution_count": null,
      "outputs": [
        {
          "output_type": "stream",
          "name": "stdout",
          "text": [
            "2\n",
            "1\n"
          ]
        }
      ]
    },
    {
      "cell_type": "code",
      "metadata": {
        "colab": {
          "base_uri": "https://localhost:8080/"
        },
        "id": "amirs9l8LL7H",
        "outputId": "1ac6c56a-afff-4426-8dd0-1cecf75492bd"
      },
      "source": [
        "# Konversi tipe data float\n",
        "print(float(bilangan1))\n",
        "print(float(bilangan3))"
      ],
      "execution_count": null,
      "outputs": [
        {
          "output_type": "stream",
          "name": "stdout",
          "text": [
            "4.0\n",
            "1.0\n"
          ]
        }
      ]
    },
    {
      "cell_type": "code",
      "metadata": {
        "colab": {
          "base_uri": "https://localhost:8080/"
        },
        "id": "1vCWIQ6PLb_J",
        "outputId": "5048f2a0-15b3-4d70-c463-e4afe1f6cd8f"
      },
      "source": [
        "# Konversi tipe data string\n",
        "print(str(bilangan1))\n",
        "print(str(bilangan2))\n",
        "print(str(bilangan3))"
      ],
      "execution_count": null,
      "outputs": [
        {
          "output_type": "stream",
          "name": "stdout",
          "text": [
            "4\n",
            "2.5\n",
            "True\n"
          ]
        }
      ]
    },
    {
      "cell_type": "code",
      "metadata": {
        "colab": {
          "base_uri": "https://localhost:8080/"
        },
        "id": "-M40xdR_MHn6",
        "outputId": "a941940e-d42e-472c-8c97-c08ce4db10b7"
      },
      "source": [
        "# Konversi tipe data bool\n",
        "print(bool(bilangan1))\n",
        "print(bool(bilangan2))"
      ],
      "execution_count": null,
      "outputs": [
        {
          "output_type": "stream",
          "name": "stdout",
          "text": [
            "True\n",
            "True\n"
          ]
        }
      ]
    },
    {
      "cell_type": "code",
      "metadata": {
        "colab": {
          "base_uri": "https://localhost:8080/"
        },
        "id": "MbpJRnECMVR8",
        "outputId": "e4f1342c-da98-43e0-ad5c-dd2c88b141af"
      },
      "source": [
        "# Konversi tipe data complex\n",
        "print(complex(bilangan1))\n",
        "print(complex(bilangan2))\n",
        "print(complex(bilangan3))"
      ],
      "execution_count": null,
      "outputs": [
        {
          "output_type": "stream",
          "name": "stdout",
          "text": [
            "(4+0j)\n",
            "(2.5+0j)\n",
            "(1+0j)\n"
          ]
        }
      ]
    },
    {
      "cell_type": "markdown",
      "metadata": {
        "id": "zIHpINQvQf2h"
      },
      "source": [
        "#### **Latihan 3**"
      ]
    },
    {
      "cell_type": "code",
      "metadata": {
        "id": "I1ulTQAKQj7F"
      },
      "source": [
        "# konversi tipe data variabel yang telah kalian buat\n",
        "# menjadi berbagai macam tipe data"
      ],
      "execution_count": null,
      "outputs": []
    },
    {
      "cell_type": "code",
      "metadata": {
        "colab": {
          "base_uri": "https://localhost:8080/"
        },
        "id": "oG7iBhPIQ5iH",
        "outputId": "1831678e-2961-4589-dd83-89ea0e0b8ffc"
      },
      "source": [
        "# Konversi tipe data integer\n",
        "print(int(a))\n",
        "print(int(c))"
      ],
      "execution_count": null,
      "outputs": [
        {
          "output_type": "stream",
          "name": "stdout",
          "text": [
            "0\n",
            "23\n"
          ]
        }
      ]
    },
    {
      "cell_type": "code",
      "metadata": {
        "colab": {
          "base_uri": "https://localhost:8080/"
        },
        "id": "cI_wHbcmRJYU",
        "outputId": "d7d0fe94-8e76-41d2-e1db-4c4333907d77"
      },
      "source": [
        "# Konversi tipe data float\n",
        "print(float(a))\n",
        "print(float(b))\n",
        "print(float(c))"
      ],
      "execution_count": null,
      "outputs": [
        {
          "output_type": "stream",
          "name": "stdout",
          "text": [
            "0.0\n",
            "19.0\n",
            "23.3\n"
          ]
        }
      ]
    },
    {
      "cell_type": "code",
      "metadata": {
        "colab": {
          "base_uri": "https://localhost:8080/"
        },
        "id": "_0JzBz2sRgiA",
        "outputId": "761f79da-acef-474f-cd90-0af42b988389"
      },
      "source": [
        "# Konversi tipe data string\n",
        "print(str(a))\n",
        "print(str(b))\n",
        "print(str(c))\n",
        "print(str(d))"
      ],
      "execution_count": null,
      "outputs": [
        {
          "output_type": "stream",
          "name": "stdout",
          "text": [
            "False\n",
            "19\n",
            "23.3\n",
            "(2+3j)\n"
          ]
        }
      ]
    },
    {
      "cell_type": "code",
      "metadata": {
        "colab": {
          "base_uri": "https://localhost:8080/"
        },
        "id": "sA5r1AngRyUw",
        "outputId": "9b085c61-adf4-4342-d6d9-b93016d06f42"
      },
      "source": [
        "# Konversi tipe data bool\n",
        "print(bool(a))\n",
        "print(bool(c))\n",
        "print(bool(d))"
      ],
      "execution_count": null,
      "outputs": [
        {
          "output_type": "stream",
          "name": "stdout",
          "text": [
            "False\n",
            "True\n",
            "True\n"
          ]
        }
      ]
    },
    {
      "cell_type": "code",
      "metadata": {
        "colab": {
          "base_uri": "https://localhost:8080/"
        },
        "id": "jmgjvByQSFXV",
        "outputId": "6448e602-6b1d-43ff-e9f3-39f7c5fe6bc1"
      },
      "source": [
        "# Konversi tipe data complex\n",
        "print(complex(a))\n",
        "print(complex(b))\n",
        "print(complex(c))"
      ],
      "execution_count": null,
      "outputs": [
        {
          "output_type": "stream",
          "name": "stdout",
          "text": [
            "0j\n",
            "(19+0j)\n",
            "(23.3+0j)\n"
          ]
        }
      ]
    }
  ]
}