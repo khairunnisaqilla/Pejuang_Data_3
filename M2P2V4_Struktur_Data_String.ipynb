{
  "nbformat": 4,
  "nbformat_minor": 0,
  "metadata": {
    "colab": {
      "name": "M2P2V4_Struktur_Data_String.ipynb",
      "provenance": [],
      "collapsed_sections": [],
      "authorship_tag": "ABX9TyMechcyK73fCbOn2Kwngh3T",
      "include_colab_link": true
    },
    "kernelspec": {
      "name": "python3",
      "display_name": "Python 3"
    },
    "language_info": {
      "name": "python"
    }
  },
  "cells": [
    {
      "cell_type": "markdown",
      "metadata": {
        "id": "view-in-github",
        "colab_type": "text"
      },
      "source": [
        "<a href=\"https://colab.research.google.com/github/khairunnisaqilla/Pejuang_Data_3/blob/main/M2P2V4_Struktur_Data_String.ipynb\" target=\"_parent\"><img src=\"https://colab.research.google.com/assets/colab-badge.svg\" alt=\"Open In Colab\"/></a>"
      ]
    },
    {
      "cell_type": "markdown",
      "metadata": {
        "id": "kFW19OdhQsEp"
      },
      "source": [
        "# String"
      ]
    },
    {
      "cell_type": "markdown",
      "metadata": {
        "id": "2zLnwrOxQv6B"
      },
      "source": [
        "String di deklarasikan dengan diapit oleh tanda petik."
      ]
    },
    {
      "cell_type": "code",
      "metadata": {
        "id": "tLaFFvBv_sPB",
        "colab": {
          "base_uri": "https://localhost:8080/"
        },
        "outputId": "2b99e035-7e6b-4f7f-9dbf-2f1e759c53a6"
      },
      "source": [
        "#Menampilkan string dengan fungsi print()\n",
        "print(\"Hello World!\")"
      ],
      "execution_count": null,
      "outputs": [
        {
          "output_type": "stream",
          "name": "stdout",
          "text": [
            "Hello World!\n"
          ]
        }
      ]
    },
    {
      "cell_type": "code",
      "metadata": {
        "colab": {
          "base_uri": "https://localhost:8080/"
        },
        "id": "kNZW9Z6iRDTJ",
        "outputId": "a7f1e22c-750c-4697-9381-19a36e3a6e3c"
      },
      "source": [
        "#Membuat variabel bertipe string\n",
        "A = \"Belajar Struktur data string\"\n",
        "print(A)"
      ],
      "execution_count": null,
      "outputs": [
        {
          "output_type": "stream",
          "name": "stdout",
          "text": [
            "Belajar Struktur data string\n"
          ]
        }
      ]
    },
    {
      "cell_type": "code",
      "metadata": {
        "colab": {
          "base_uri": "https://localhost:8080/"
        },
        "id": "rkIBIkb6ROBx",
        "outputId": "fee99fef-9ede-4736-fa3a-c921ab9621b7"
      },
      "source": [
        "#Membuat variabel string multi-line dengan 3 tanda petik\n",
        "B = \"\"\"Belajar Python\n",
        "Pejuang data 3.0\n",
        "PSDS\n",
        "String\"\"\"\n",
        "print(B)"
      ],
      "execution_count": null,
      "outputs": [
        {
          "output_type": "stream",
          "name": "stdout",
          "text": [
            "Belajar Python\n",
            "Pejuang data 3.0\n",
            "PSDS\n",
            "String\n"
          ]
        }
      ]
    },
    {
      "cell_type": "code",
      "metadata": {
        "colab": {
          "base_uri": "https://localhost:8080/"
        },
        "id": "havD0Px9Ris6",
        "outputId": "53b9cd89-6dff-4750-efcd-9b6f02d77a99"
      },
      "source": [
        "#Menampilkan karakter tertentu dalam string\n",
        "print(A[2])"
      ],
      "execution_count": null,
      "outputs": [
        {
          "output_type": "stream",
          "name": "stdout",
          "text": [
            "l\n"
          ]
        }
      ]
    },
    {
      "cell_type": "code",
      "metadata": {
        "colab": {
          "base_uri": "https://localhost:8080/"
        },
        "id": "l-pnoTYuRsQR",
        "outputId": "b71a47f1-40e8-4784-da83-5d2c1aebb669"
      },
      "source": [
        "#Slicing pada String\n",
        "A = \"Belajar Struktur data string\"\n",
        "print(A[:5])\n",
        "print(A[3:])\n",
        "print(A[-5:])\n",
        "print(A[4:9])"
      ],
      "execution_count": null,
      "outputs": [
        {
          "output_type": "stream",
          "name": "stdout",
          "text": [
            "Belaj\n",
            "ajar Struktur data string\n",
            "tring\n",
            "jar S\n"
          ]
        }
      ]
    },
    {
      "cell_type": "markdown",
      "metadata": {
        "id": "z0IsW06MSSXO"
      },
      "source": [
        "#### Latihan 1"
      ]
    },
    {
      "cell_type": "code",
      "metadata": {
        "colab": {
          "base_uri": "https://localhost:8080/"
        },
        "id": "NMsnm5_qSVkb",
        "outputId": "b71c59c4-a0bc-42b1-9b46-735056d1ee7b"
      },
      "source": [
        "#Buatlah variabel string lalu lakukan slicing dengan menghilangkan karakter pertama dan terakhir\n",
        "A1 = \"Pejuang Data Kelas Dasar\"\n",
        "print(A1)\n",
        "print(A1[1:-1])"
      ],
      "execution_count": null,
      "outputs": [
        {
          "output_type": "stream",
          "name": "stdout",
          "text": [
            "Pejuang Data Kelas Dasar\n",
            "ejuang Data Kelas Dasa\n"
          ]
        }
      ]
    },
    {
      "cell_type": "markdown",
      "metadata": {
        "id": "tqd-e4msTHAP"
      },
      "source": [
        "## Memodifikasi String"
      ]
    },
    {
      "cell_type": "code",
      "metadata": {
        "colab": {
          "base_uri": "https://localhost:8080/",
          "height": 35
        },
        "id": "qigEGJ_TTK9t",
        "outputId": "bae05ad5-c58c-40b8-800a-eee51a86d8af"
      },
      "source": [
        "# upper()\n",
        "A.upper()"
      ],
      "execution_count": null,
      "outputs": [
        {
          "output_type": "execute_result",
          "data": {
            "application/vnd.google.colaboratory.intrinsic+json": {
              "type": "string"
            },
            "text/plain": [
              "'BELAJAR STRUKTUR DATA STRING'"
            ]
          },
          "metadata": {},
          "execution_count": 52
        }
      ]
    },
    {
      "cell_type": "code",
      "metadata": {
        "colab": {
          "base_uri": "https://localhost:8080/",
          "height": 35
        },
        "id": "WHogsrYpTTj2",
        "outputId": "e9ab07fa-966a-4b87-b3d3-93869db64f31"
      },
      "source": [
        "# lower()\n",
        "A.lower()"
      ],
      "execution_count": null,
      "outputs": [
        {
          "output_type": "execute_result",
          "data": {
            "application/vnd.google.colaboratory.intrinsic+json": {
              "type": "string"
            },
            "text/plain": [
              "'belajar struktur data string'"
            ]
          },
          "metadata": {},
          "execution_count": 53
        }
      ]
    },
    {
      "cell_type": "code",
      "metadata": {
        "colab": {
          "base_uri": "https://localhost:8080/",
          "height": 35
        },
        "id": "qZY32tshTbZr",
        "outputId": "fb5b67b3-431f-4349-ac88-9690c6060360"
      },
      "source": [
        "# strip()\n",
        "A.strip()"
      ],
      "execution_count": null,
      "outputs": [
        {
          "output_type": "execute_result",
          "data": {
            "application/vnd.google.colaboratory.intrinsic+json": {
              "type": "string"
            },
            "text/plain": [
              "'Belajar Struktur data string'"
            ]
          },
          "metadata": {},
          "execution_count": 54
        }
      ]
    },
    {
      "cell_type": "code",
      "metadata": {
        "colab": {
          "base_uri": "https://localhost:8080/",
          "height": 35
        },
        "id": "RE_84LnXUJk-",
        "outputId": "1d3f4116-4b3f-4fdd-bcc1-b18d3879e24c"
      },
      "source": [
        "# replace()\n",
        "A.replace('l', 'd')"
      ],
      "execution_count": null,
      "outputs": [
        {
          "output_type": "execute_result",
          "data": {
            "application/vnd.google.colaboratory.intrinsic+json": {
              "type": "string"
            },
            "text/plain": [
              "'Bedajar Struktur data string'"
            ]
          },
          "metadata": {},
          "execution_count": 56
        }
      ]
    },
    {
      "cell_type": "code",
      "metadata": {
        "colab": {
          "base_uri": "https://localhost:8080/"
        },
        "id": "_Ha_igA5Uqg3",
        "outputId": "44d5add7-46fc-4f90-a1d2-2a03aac9a101"
      },
      "source": [
        "# split()\n",
        "A.split()"
      ],
      "execution_count": null,
      "outputs": [
        {
          "output_type": "execute_result",
          "data": {
            "text/plain": [
              "['Belajar', 'Struktur', 'data', 'string']"
            ]
          },
          "metadata": {},
          "execution_count": 57
        }
      ]
    },
    {
      "cell_type": "markdown",
      "metadata": {
        "id": "h3rNGTgSUwVn"
      },
      "source": [
        "## Menggabungkan String"
      ]
    },
    {
      "cell_type": "code",
      "metadata": {
        "colab": {
          "base_uri": "https://localhost:8080/",
          "height": 35
        },
        "id": "HN8wHAL1U1fm",
        "outputId": "b1954c9f-2827-4868-c10e-da14709fab57"
      },
      "source": [
        "A = \"Belajar struktur data string\"\n",
        "B = \"Pejuang Data 3.0\"\n",
        "A + \" \" + B"
      ],
      "execution_count": null,
      "outputs": [
        {
          "output_type": "execute_result",
          "data": {
            "application/vnd.google.colaboratory.intrinsic+json": {
              "type": "string"
            },
            "text/plain": [
              "'Belajar struktur data string Pejuang Data 3.0'"
            ]
          },
          "metadata": {},
          "execution_count": 58
        }
      ]
    },
    {
      "cell_type": "markdown",
      "metadata": {
        "id": "LD8IpsI6VDrQ"
      },
      "source": [
        "#### Latihan 2"
      ]
    },
    {
      "cell_type": "code",
      "metadata": {
        "colab": {
          "base_uri": "https://localhost:8080/"
        },
        "id": "i2aLSUVWVIjZ",
        "outputId": "5f87c96a-c8a5-46a0-bccb-a699f85c0668"
      },
      "source": [
        "#Ganti semua huruf vokal menjadi \"i\" pada string yang telah kalian buat pada latihan 1\n",
        "A1 = A1.replace('a', 'i')\n",
        "A1 = A1.replace('u', 'i')\n",
        "A1 = A1.replace('e', 'i')\n",
        "\n",
        "print('varibel A1 setelah diganti adalah:', A1)"
      ],
      "execution_count": null,
      "outputs": [
        {
          "output_type": "stream",
          "name": "stdout",
          "text": [
            "varibel A1 setelah diganti adalah: Pijiing Diti Kilis Disir\n"
          ]
        }
      ]
    }
  ]
}