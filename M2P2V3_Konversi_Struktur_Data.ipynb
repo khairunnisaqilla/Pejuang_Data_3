{
  "nbformat": 4,
  "nbformat_minor": 0,
  "metadata": {
    "colab": {
      "name": "M2P2V3_Konversi Struktur Data.ipynb",
      "provenance": [],
      "collapsed_sections": [],
      "authorship_tag": "ABX9TyN/Kpz7s0nx1gn50P8SDx0R",
      "include_colab_link": true
    },
    "kernelspec": {
      "name": "python3",
      "display_name": "Python 3"
    },
    "language_info": {
      "name": "python"
    }
  },
  "cells": [
    {
      "cell_type": "markdown",
      "metadata": {
        "id": "view-in-github",
        "colab_type": "text"
      },
      "source": [
        "<a href=\"https://colab.research.google.com/github/khairunnisaqilla/Pejuang_Data_3/blob/main/M2P2V3_Konversi_Struktur_Data.ipynb\" target=\"_parent\"><img src=\"https://colab.research.google.com/assets/colab-badge.svg\" alt=\"Open In Colab\"/></a>"
      ]
    },
    {
      "cell_type": "markdown",
      "metadata": {
        "id": "fulyuU1o_n4H"
      },
      "source": [
        "# Konversi Struktur Data"
      ]
    },
    {
      "cell_type": "markdown",
      "metadata": {
        "id": "aEYhn5LYYH1F"
      },
      "source": [
        "Fungsi untuk mengubah/konversi struktur data:\n",
        "\n",
        "a. ```list()``` : untuk mengubah menjadi list\n",
        "\n",
        "b. ```tuple()``` : untuk mengubah menjadi tuple\n",
        "\n",
        "c. ```set()``` : untuk mengubah menjadi set\n",
        "\n",
        "d. ```dict()``` : untuk mengubah menjadi dictionary\n",
        "\n"
      ]
    },
    {
      "cell_type": "markdown",
      "metadata": {
        "id": "vJoUKfm9YyqI"
      },
      "source": [
        "## Mengkonversi tipe data list:"
      ]
    },
    {
      "cell_type": "code",
      "metadata": {
        "id": "djQVATY3Y-78"
      },
      "source": [
        "# membuat 2 list\n",
        "L1 = [1,2,3,4]\n",
        "L2 = [5,6,7,8]"
      ],
      "execution_count": null,
      "outputs": []
    },
    {
      "cell_type": "code",
      "metadata": {
        "colab": {
          "base_uri": "https://localhost:8080/"
        },
        "id": "gucsvcaGZLEW",
        "outputId": "80c64bfb-50cd-4d20-c740-1fb332c70457"
      },
      "source": [
        "# Mengkonversi struktur data list\n",
        "k_tuple = tuple(L1)\n",
        "k_set = set(L2)\n",
        "k_dict = dict(zip(L1,L2))\n",
        "\n",
        "# Melihat data yang telah dikonversi\n",
        "print(k_tuple)\n",
        "print(k_set)\n",
        "print(k_dict)"
      ],
      "execution_count": null,
      "outputs": [
        {
          "output_type": "stream",
          "name": "stdout",
          "text": [
            "(1, 2, 3, 4)\n",
            "{8, 5, 6, 7}\n",
            "{1: 5, 2: 6, 3: 7, 4: 8}\n"
          ]
        }
      ]
    },
    {
      "cell_type": "markdown",
      "metadata": {
        "id": "Slskt8nPf9RV"
      },
      "source": [
        "## Mengkonversi tipe data tuple:"
      ]
    },
    {
      "cell_type": "code",
      "metadata": {
        "id": "kDKC-pk5gDwj"
      },
      "source": [
        "# Membuat dua tuple\n",
        "T1 = (1,2,3,4)\n",
        "T2 = (5,6,7,8)"
      ],
      "execution_count": null,
      "outputs": []
    },
    {
      "cell_type": "code",
      "metadata": {
        "colab": {
          "base_uri": "https://localhost:8080/"
        },
        "id": "8UxTTuAAgRv1",
        "outputId": "0cf4ef0f-ba09-4cc7-cfb5-6c28c6b323d9"
      },
      "source": [
        "# Menkonversi struktur data tuple\n",
        "k_list = list(T1)\n",
        "k_set = set(T2)\n",
        "k_dict = dict(zip(T1,T2))\n",
        "\n",
        "# Melihat data yang telah dikonversi\n",
        "print(k_list)\n",
        "print(k_set)\n",
        "print(k_dict)"
      ],
      "execution_count": null,
      "outputs": [
        {
          "output_type": "stream",
          "name": "stdout",
          "text": [
            "[1, 2, 3, 4]\n",
            "{8, 5, 6, 7}\n",
            "{1: 5, 2: 6, 3: 7, 4: 8}\n"
          ]
        }
      ]
    },
    {
      "cell_type": "markdown",
      "metadata": {
        "id": "ujluAJrwZ9mk"
      },
      "source": [
        "## Mengkonversi tipe data set:"
      ]
    },
    {
      "cell_type": "code",
      "metadata": {
        "id": "Kp3i16ZdZ8qE"
      },
      "source": [
        "# Membuat dua set\n",
        "S1 = {1,2,3,4}\n",
        "S2 = {5,6,7,8}"
      ],
      "execution_count": null,
      "outputs": []
    },
    {
      "cell_type": "code",
      "metadata": {
        "colab": {
          "base_uri": "https://localhost:8080/"
        },
        "id": "dbnSDb9gaWGb",
        "outputId": "24f181f1-a543-442c-d2d8-a1f8fae8c72d"
      },
      "source": [
        "# Mengkonversi struktur data set\n",
        "k_list = list(S1)\n",
        "k_tuple = tuple(S2)\n",
        "k_dict = dict(zip(S1, S2))\n",
        "\n",
        "# Melihat dta yang telah dikonversi\n",
        "print(k_list)\n",
        "print(k_tuple)\n",
        "print(k_dict)"
      ],
      "execution_count": null,
      "outputs": [
        {
          "output_type": "stream",
          "name": "stdout",
          "text": [
            "[1, 2, 3, 4]\n",
            "(8, 5, 6, 7)\n",
            "{1: 8, 2: 5, 3: 6, 4: 7}\n"
          ]
        }
      ]
    },
    {
      "cell_type": "markdown",
      "metadata": {
        "id": "nKQ3VJrRbUWL"
      },
      "source": [
        "## Mengkonversi tipe data dictionary:"
      ]
    },
    {
      "cell_type": "code",
      "metadata": {
        "id": "ZLnShaRJbddw"
      },
      "source": [
        "# Membuat dictionary\n",
        "D = {\n",
        "    \"nama\" : \"Andi\",\n",
        "    \"alamat\" : \"Yogyakarta\",\n",
        "    \"umur\" : 20\n",
        "}"
      ],
      "execution_count": null,
      "outputs": []
    },
    {
      "cell_type": "code",
      "metadata": {
        "colab": {
          "base_uri": "https://localhost:8080/"
        },
        "id": "RQUhtgtnbwmy",
        "outputId": "fddcd99c-aac8-4081-e891-849d46246ac5"
      },
      "source": [
        "# Mengkonversi struktur data dictonary dari key dan value-nya\n",
        "k_list = list(D.keys())\n",
        "k_tuple = tuple(D.values())\n",
        "k_set = set(D.keys())\n",
        "\n",
        "print(k_list)\n",
        "print(k_tuple)\n",
        "print(k_set)"
      ],
      "execution_count": null,
      "outputs": [
        {
          "output_type": "stream",
          "name": "stdout",
          "text": [
            "['nama', 'alamat', 'umur']\n",
            "('Andi', 'Yogyakarta', 20)\n",
            "{'nama', 'umur', 'alamat'}\n"
          ]
        }
      ]
    },
    {
      "cell_type": "markdown",
      "metadata": {
        "id": "UGf0mToGdtNv"
      },
      "source": [
        "#### Latihan"
      ]
    },
    {
      "cell_type": "code",
      "metadata": {
        "id": "thx6BPV_dwR8"
      },
      "source": [
        "# Lakukan konversi struktur data yang kalian buat pada notebook-notebook \n",
        "# sebelumnya menjadi list, tuple, set, dan dictionary (masing-masing satu)\n"
      ],
      "execution_count": null,
      "outputs": []
    },
    {
      "cell_type": "code",
      "metadata": {
        "colab": {
          "base_uri": "https://localhost:8080/"
        },
        "id": "HjhpFpKDeghx",
        "outputId": "e14625cc-0725-4a99-8ce0-3da255d5cac4"
      },
      "source": [
        "A = [\"usia\", 21, True, 1+2j]\n",
        "B = [10, \"nomer\", False, \"kompleks\"]\n",
        "\n",
        "# Konversi tipe data list\n",
        "k_tuple = tuple(B)\n",
        "k_set = set(A)\n",
        "k_dict = dict(zip(A,B))\n",
        "\n",
        "# Melihat data yang telah dikonversi\n",
        "print(k_tuple)\n",
        "print(k_set)\n",
        "print(k_dict)"
      ],
      "execution_count": null,
      "outputs": [
        {
          "output_type": "stream",
          "name": "stdout",
          "text": [
            "(10, 'nomer', False, 'kompleks')\n",
            "{True, 'usia', 21, (1+2j)}\n",
            "{'usia': 10, 21: 'nomer', True: False, (1+2j): 'kompleks'}\n"
          ]
        }
      ]
    },
    {
      "cell_type": "code",
      "metadata": {
        "colab": {
          "base_uri": "https://localhost:8080/"
        },
        "id": "R-0KCw93ftDA",
        "outputId": "9e44c420-586c-46cf-bee7-3c13e42afffe"
      },
      "source": [
        "A = (\"Python\", 41, 20.4, False, 2+3j)\n",
        "B = (41, \"saya\", True, 3+5j, 56.3)\n",
        "\n",
        "# Konversi tipe data tuple\n",
        "k_list = list(A)\n",
        "k_set = set(B)\n",
        "k_dict = dict(zip(A,B))\n",
        "\n",
        "# Melihat data yang telah dikonversi\n",
        "print(k_list)\n",
        "print(k_set)\n",
        "print(k_dict)"
      ],
      "execution_count": null,
      "outputs": [
        {
          "output_type": "stream",
          "name": "stdout",
          "text": [
            "['Python', 41, 20.4, False, (2+3j)]\n",
            "{True, 41, (3+5j), 'saya', 56.3}\n",
            "{'Python': 41, 41: 'saya', 20.4: True, False: (3+5j), (2+3j): 56.3}\n"
          ]
        }
      ]
    },
    {
      "cell_type": "code",
      "metadata": {
        "colab": {
          "base_uri": "https://localhost:8080/"
        },
        "id": "w9atmE4Gh0mE",
        "outputId": "543e9aa6-bfba-4e5e-e0cc-d5807faaa5d0"
      },
      "source": [
        "S1 = {21, False, True, 2+5j, 2+5j, 20.5}\n",
        "S2 = {False, 2+7j, 'aku', 99}\n",
        "\n",
        "# Konversi tipe data set\n",
        "k_list = list(S2)\n",
        "k_tuple = tuple(S1)\n",
        "k_dict = dict(zip(S2, S1))\n",
        "\n",
        "# Melihat data yang telah dikonversi\n",
        "print(k_list)\n",
        "print(k_tuple)\n",
        "print(k_dict)"
      ],
      "execution_count": null,
      "outputs": [
        {
          "output_type": "stream",
          "name": "stdout",
          "text": [
            "[False, 99, 'aku', (2+7j)]\n",
            "(False, True, (2+5j), 20.5, 21)\n",
            "{False: False, 99: True, 'aku': (2+5j), (2+7j): 20.5}\n"
          ]
        }
      ]
    },
    {
      "cell_type": "code",
      "metadata": {
        "colab": {
          "base_uri": "https://localhost:8080/"
        },
        "id": "Dd3zyVt4ktVy",
        "outputId": "831a9ae5-b762-42a4-f974-7fbbf73078b9"
      },
      "source": [
        "D1 = {'pejuang data':3,'kelas':'dasar','aplikasi':'python'}\n",
        "\n",
        "# Konversi tipe data dictionary\n",
        "k_list = list(D1.values())\n",
        "k_tuple = tuple(D1.keys())\n",
        "k_set = set(D1.keys())\n",
        "\n",
        "# Melihat data yang telah dikonversi\n",
        "print(k_list)\n",
        "print(k_tuple)\n",
        "print(k_set)\n"
      ],
      "execution_count": null,
      "outputs": [
        {
          "output_type": "stream",
          "name": "stdout",
          "text": [
            "[3, 'dasar', 'python']\n",
            "('pejuang data', 'kelas', 'aplikasi')\n",
            "{'pejuang data', 'aplikasi', 'kelas'}\n"
          ]
        }
      ]
    }
  ]
}